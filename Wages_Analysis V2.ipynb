{
  "cells": [
    {
      "cell_type": "code",
      "execution_count": 24,
      "metadata": {
        "colab": {
          "base_uri": "https://localhost:8080/"
        },
        "id": "VeDde8ffHY8E",
        "outputId": "cd84ee9c-5e3a-43f5-db20-08f93d119ebd"
      },
      "outputs": [
        {
          "data": {
            "text/plain": [
              "Index(['GEO', 'GEO_OBJECT', 'FREQ', 'SEX', 'PCS_ESE', 'DERA_MEASURE',\n",
              "       'CONF_STATUS', 'TIME_PERIOD', 'OBS_VALUE'],\n",
              "      dtype='object')"
            ]
          },
          "execution_count": 24,
          "metadata": {},
          "output_type": "execute_result"
        }
      ],
      "source": [
        "import pandas as pd\n",
        "data = pd.read_csv(\"DS_BTS_SAL_EQTP_SEX_PCS_2023_data.csv\", sep=\";\")\n",
        "metadata = pd.read_csv(\"DS_BTS_SAL_EQTP_SEX_PCS_2023_metadata.csv\", sep=\";\") #Définition des variables\n",
        "data.columns"
      ]
    },
    {
      "cell_type": "markdown",
      "metadata": {
        "id": "vh6zFlbAJ0jR"
      },
      "source": [
        "Rajouter ici les variables et leurs définitions :"
      ]
    },
    {
      "cell_type": "markdown",
      "metadata": {
        "id": "0Zw9mobNKLuq"
      },
      "source": [
        "\n",
        "\n",
        "*   CONF_STATUS = Statut de confidentialité (F = Diffusable / C = Confidentiel)\n",
        "*   DERA_MEASURE = Salaire Net mensuel moyen en équivalent temps plein\n",
        "*   FREQ = Fréquence (A = annuel)\n",
        "*   PCS_ESE = Profession et cat. socio pro\n",
        "\n",
        "3.  = (1T3)Cadres y compris chefs d'entreprise\n",
        "4.  = Professions intermédiaires\n",
        "5.  = Employés\n",
        "6.  = Ouvriers\n",
        "\n",
        "\n",
        "*   SEX = Sexe (F, M et _T pour tous sexes confondus)\n",
        "*   GEO = Codes villes\n",
        "*   GEO_OBJECT = Autre code géo, peut être région ou dpt?\n",
        "*   TIME_PERIOD = 2022 / 2023\n",
        "*   OBS_VALUE = Salaire\n",
        "\n",
        "\n",
        "\n",
        "\n",
        "\n",
        "\n",
        "\n",
        "\n",
        "\n",
        "\n",
        "\n",
        "\n",
        "\n",
        "\n",
        "\n",
        "\n",
        "\n",
        "\n",
        "\n"
      ]
    },
    {
      "cell_type": "code",
      "execution_count": 25,
      "metadata": {
        "id": "k_9ObE3TJz97"
      },
      "outputs": [],
      "source": [
        "#TO DO NETTOYAGE\n",
        "#Vérif les doublons\n",
        "#Vérif les valeurs manquantes\n",
        "#Outliers\n",
        "#Transformer les variables qualitatives en variables quanti pour machine learning\n",
        "#Transformer 1T3 en 3"
      ]
    },
    {
      "cell_type": "code",
      "execution_count": 26,
      "metadata": {
        "colab": {
          "base_uri": "https://localhost:8080/"
        },
        "id": "rgP5oLJZaYUG",
        "outputId": "10b6ffe1-ccaf-4962-cd96-ffcf5e26e1b6"
      },
      "outputs": [
        {
          "name": "stdout",
          "output_type": "stream",
          "text": [
            "0\n"
          ]
        }
      ],
      "source": [
        "#Doublons\n",
        "print(data.duplicated().sum())\n",
        "#Pas de doublons"
      ]
    },
    {
      "cell_type": "code",
      "execution_count": 27,
      "metadata": {
        "colab": {
          "base_uri": "https://localhost:8080/"
        },
        "id": "EBETsqR3aLZI",
        "outputId": "cea6af3e-5a33-405c-d7d3-582d20b6acac"
      },
      "outputs": [
        {
          "name": "stdout",
          "output_type": "stream",
          "text": [
            "GEO                 0\n",
            "GEO_OBJECT          0\n",
            "FREQ                0\n",
            "SEX                 0\n",
            "PCS_ESE             0\n",
            "DERA_MEASURE        0\n",
            "CONF_STATUS         0\n",
            "TIME_PERIOD         0\n",
            "OBS_VALUE       20460\n",
            "dtype: int64\n"
          ]
        }
      ],
      "source": [
        "#Nombre de valeurs manquantes par colonne\n",
        "print(data.isna().sum())"
      ]
    },
    {
      "cell_type": "code",
      "execution_count": 28,
      "metadata": {
        "id": "LrRW82dqb7X2"
      },
      "outputs": [],
      "source": [
        "# Lignes avec OBS_VALUE manquant\n",
        "missing_values = data[data['OBS_VALUE'].isna()]\n",
        "\n",
        "#Les NaN correspondent aux valeurs en confidentiel, donc il faut supprimer les lignes correspondantes\n"
      ]
    },
    {
      "cell_type": "code",
      "execution_count": 29,
      "metadata": {
        "id": "5pzmzTY8iVNL"
      },
      "outputs": [],
      "source": [
        "#Suppression des lignes où le salaire est condifentiel donc pas utile\n",
        "data = data[data[\"CONF_STATUS\"] != \"C\"]"
      ]
    },
    {
      "cell_type": "code",
      "execution_count": 30,
      "metadata": {
        "id": "f7qxz7VMgPlr"
      },
      "outputs": [],
      "source": [
        "#Suppression des valeurs _T (total)\n",
        "data = data[(data[\"PCS_ESE\"] != \"_T\") & (data[\"SEX\"] != \"_T\")]"
      ]
    },
    {
      "cell_type": "code",
      "execution_count": 31,
      "metadata": {
        "colab": {
          "base_uri": "https://localhost:8080/"
        },
        "id": "E1rChoWBhuaN",
        "outputId": "46a7073c-d6c3-479c-9073-6704225af8ab"
      },
      "outputs": [
        {
          "name": "stdout",
          "output_type": "stream",
          "text": [
            "['4' '5' '6' '1T3']\n",
            "['F' 'M']\n"
          ]
        }
      ],
      "source": [
        "#Vérif que les valeurs _T ont bien été supprimées dans les colonnes SEX & PCS_ESE\n",
        "\n",
        "print(data[\"PCS_ESE\"].unique())\n",
        "print(data[\"SEX\"].unique())"
      ]
    },
    {
      "cell_type": "code",
      "execution_count": 32,
      "metadata": {
        "colab": {
          "base_uri": "https://localhost:8080/"
        },
        "id": "F1mAsltyj5AE",
        "outputId": "464544ca-05ab-407c-8977-2b6d9d0b268f"
      },
      "outputs": [
        {
          "name": "stdout",
          "output_type": "stream",
          "text": [
            "['4' '5' '6' '3']\n"
          ]
        }
      ],
      "source": [
        "#Transformer 1t3 en 3 (catégorie socio pro)\n",
        "data[\"PCS_ESE\"] = data[\"PCS_ESE\"].replace(\"1T3\", \"3\")\n",
        "print(data [\"PCS_ESE\"].unique())"
      ]
    },
    {
      "cell_type": "code",
      "execution_count": 33,
      "metadata": {
        "id": "NHGwX69Tkh3-"
      },
      "outputs": [],
      "source": [
        "#Supprimer la colonne DERA_MEASURE qui contient toujours la meme valeur\n",
        "data.drop(columns=[\"DERA_MEASURE\"], inplace=True)\n",
        "\n",
        "#Même chose pour la fréquence qui est toujours annuelle\n",
        "data.drop(columns=[\"FREQ\"], inplace=True)"
      ]
    },
    {
      "cell_type": "code",
      "execution_count": 34,
      "metadata": {
        "id": "XH5QUer3nx5T"
      },
      "outputs": [],
      "source": [
        "#Supprimer la colonne CONF_STATUS qui n'a plus de sens maintenant que l'on a supprimé les lignes C\n",
        "data = data.drop(columns=[\"CONF_STATUS\"])"
      ]
    },
    {
      "cell_type": "code",
      "execution_count": 35,
      "metadata": {
        "colab": {
          "base_uri": "https://localhost:8080/"
        },
        "id": "S5S_7H43lJ04",
        "outputId": "f09c1af6-09f0-43c6-fac8-ef1209d908ab"
      },
      "outputs": [
        {
          "name": "stdout",
          "output_type": "stream",
          "text": [
            "Index(['GEO', 'GEO_OBJECT', 'SEX', 'PCS_ESE', 'TIME_PERIOD', 'OBS_VALUE'], dtype='object')\n"
          ]
        }
      ],
      "source": [
        "print(data.columns)"
      ]
    },
    {
      "cell_type": "code",
      "execution_count": 36,
      "metadata": {
        "id": "zYpmCsA8obW2"
      },
      "outputs": [],
      "source": [
        "data = data.rename(columns={\"OBS_VALUE\": \"WAGE\"})\n",
        "data = data.rename(columns={\"PCS_ESE\": \"PCS\"})\n",
        "data = data.rename(columns={\"TIME_PERIOD\": \"YEAR\"})\n",
        "data = data.rename(columns={\"GEO_OBJECT\": \"INSEE ZONING\"})\n",
        "data = data.rename(columns={\"GEO\": \"CITY\"})\n"
      ]
    },
    {
      "cell_type": "code",
      "execution_count": 37,
      "metadata": {
        "colab": {
          "base_uri": "https://localhost:8080/"
        },
        "id": "kEnOI1BEmXi7",
        "outputId": "c4ed45fa-0c95-4f9d-f2e5-8f9e6e3f9c3a"
      },
      "outputs": [
        {
          "name": "stdout",
          "output_type": "stream",
          "text": [
            "[2107.22 2303.18 1844.06 ... 2382.16 2017.75 2774.94]\n"
          ]
        }
      ],
      "source": [
        "#Arrondir les salaires à deux décimales, car ce sont déjà des moyennes annuelles\n",
        "data[\"WAGE\"] = data[\"WAGE\"].round(2)\n",
        "\n",
        "print(data[\"WAGE\"].unique())"
      ]
    },
    {
      "cell_type": "code",
      "execution_count": 38,
      "metadata": {
        "colab": {
          "base_uri": "https://localhost:8080/"
        },
        "id": "CM3Mh1QzqhV0",
        "outputId": "fa792722-a778-4019-9bae-5676a49e6811"
      },
      "outputs": [
        {
          "name": "stdout",
          "output_type": "stream",
          "text": [
            "Index(['CITY', 'INSEE ZONING', 'SEX', 'PCS', 'YEAR', 'WAGE'], dtype='object')\n"
          ]
        }
      ],
      "source": [
        "print(data.columns)"
      ]
    },
    {
      "cell_type": "markdown",
      "metadata": {
        "id": "uFSxwfZ1SQbx"
      },
      "source": [
        "#Idées TO DO analyse\n",
        "\n",
        "1.   Ecart Salaire H/F\n",
        "2.   Salaire par région\n",
        "3.   Evolution salariale dans le temps (22/23)\n",
        "4.   Salaire par cat. socio pro\n",
        "\n",
        "\n"
      ]
    },
    {
      "cell_type": "markdown",
      "metadata": {
        "id": "tYBh1WR0XnS2"
      },
      "source": [
        "Ecart Salaire\n",
        "\n"
      ]
    },
    {
      "cell_type": "code",
      "execution_count": 39,
      "metadata": {
        "colab": {
          "base_uri": "https://localhost:8080/"
        },
        "id": "EshG1m-PXA5x",
        "outputId": "b9ca3323-304d-4db3-8e95-263201e3da14"
      },
      "outputs": [
        {
          "name": "stdout",
          "output_type": "stream",
          "text": [
            "Écart salarial H/F : 310.96 €\n",
            "Écart en pourcentage : 13.39 %\n"
          ]
        }
      ],
      "source": [
        "import pandas as pd\n",
        "\n",
        "#Calcul de l'écart salarial H/F\n",
        "moyennes = data[data[\"SEX\"].isin([\"F\", \"M\"])].groupby(\"SEX\")[\"WAGE\"].mean()\n",
        "\n",
        "ecart_valeur = moyennes[\"M\"] - moyennes[\"F\"]\n",
        "ecart_pourcentage = (ecart_valeur / moyennes[\"F\"]) * 100\n",
        "\n",
        "print(f\"Écart salarial H/F : {ecart_valeur:.2f} €\")\n",
        "print(f\"Écart en pourcentage : {ecart_pourcentage:.2f} %\")"
      ]
    },
    {
      "cell_type": "code",
      "execution_count": 40,
      "metadata": {
        "colab": {
          "base_uri": "https://localhost:8080/",
          "height": 526
        },
        "id": "qanYRqVjqNy_",
        "outputId": "54a682b1-b194-404a-94d3-a9e9e1f086b5"
      },
      "outputs": [
        {
          "name": "stdout",
          "output_type": "stream",
          "text": [
            "<class 'pandas.core.frame.DataFrame'>\n",
            "Index: 186800 entries, 4 to 370705\n",
            "Data columns (total 6 columns):\n",
            " #   Column        Non-Null Count   Dtype  \n",
            "---  ------        --------------   -----  \n",
            " 0   CITY          186800 non-null  object \n",
            " 1   INSEE ZONING  186800 non-null  object \n",
            " 2   SEX           186800 non-null  object \n",
            " 3   PCS           186800 non-null  object \n",
            " 4   YEAR          186800 non-null  int64  \n",
            " 5   WAGE          186800 non-null  float64\n",
            "dtypes: float64(1), int64(1), object(4)\n",
            "memory usage: 10.0+ MB\n"
          ]
        },
        {
          "data": {
            "text/html": [
              "<div>\n",
              "<style scoped>\n",
              "    .dataframe tbody tr th:only-of-type {\n",
              "        vertical-align: middle;\n",
              "    }\n",
              "\n",
              "    .dataframe tbody tr th {\n",
              "        vertical-align: top;\n",
              "    }\n",
              "\n",
              "    .dataframe thead th {\n",
              "        text-align: right;\n",
              "    }\n",
              "</style>\n",
              "<table border=\"1\" class=\"dataframe\">\n",
              "  <thead>\n",
              "    <tr style=\"text-align: right;\">\n",
              "      <th></th>\n",
              "      <th>YEAR</th>\n",
              "      <th>WAGE</th>\n",
              "    </tr>\n",
              "  </thead>\n",
              "  <tbody>\n",
              "    <tr>\n",
              "      <th>count</th>\n",
              "      <td>186800.000000</td>\n",
              "      <td>186800.000000</td>\n",
              "    </tr>\n",
              "    <tr>\n",
              "      <th>mean</th>\n",
              "      <td>2022.500000</td>\n",
              "      <td>2477.405105</td>\n",
              "    </tr>\n",
              "    <tr>\n",
              "      <th>std</th>\n",
              "      <td>0.500001</td>\n",
              "      <td>825.895117</td>\n",
              "    </tr>\n",
              "    <tr>\n",
              "      <th>min</th>\n",
              "      <td>2022.000000</td>\n",
              "      <td>793.400000</td>\n",
              "    </tr>\n",
              "    <tr>\n",
              "      <th>25%</th>\n",
              "      <td>2022.000000</td>\n",
              "      <td>1860.790000</td>\n",
              "    </tr>\n",
              "    <tr>\n",
              "      <th>50%</th>\n",
              "      <td>2022.500000</td>\n",
              "      <td>2173.025000</td>\n",
              "    </tr>\n",
              "    <tr>\n",
              "      <th>75%</th>\n",
              "      <td>2023.000000</td>\n",
              "      <td>2891.312500</td>\n",
              "    </tr>\n",
              "    <tr>\n",
              "      <th>max</th>\n",
              "      <td>2023.000000</td>\n",
              "      <td>14047.320000</td>\n",
              "    </tr>\n",
              "  </tbody>\n",
              "</table>\n",
              "</div>"
            ],
            "text/plain": [
              "                YEAR           WAGE\n",
              "count  186800.000000  186800.000000\n",
              "mean     2022.500000    2477.405105\n",
              "std         0.500001     825.895117\n",
              "min      2022.000000     793.400000\n",
              "25%      2022.000000    1860.790000\n",
              "50%      2022.500000    2173.025000\n",
              "75%      2023.000000    2891.312500\n",
              "max      2023.000000   14047.320000"
            ]
          },
          "execution_count": 40,
          "metadata": {},
          "output_type": "execute_result"
        }
      ],
      "source": [
        "data.info()\n",
        "data.describe()"
      ]
    },
    {
      "cell_type": "code",
      "execution_count": 41,
      "metadata": {
        "colab": {
          "base_uri": "https://localhost:8080/",
          "height": 542
        },
        "id": "3MToMVmbvWCc",
        "outputId": "6ec7448d-4705-4bd6-bbbb-ffe9bba5b433"
      },
      "outputs": [
        {
          "ename": "ModuleNotFoundError",
          "evalue": "No module named 'plotly'",
          "output_type": "error",
          "traceback": [
            "\u001b[31m---------------------------------------------------------------------------\u001b[39m",
            "\u001b[31mModuleNotFoundError\u001b[39m                       Traceback (most recent call last)",
            "\u001b[36mCell\u001b[39m\u001b[36m \u001b[39m\u001b[32mIn[41]\u001b[39m\u001b[32m, line 1\u001b[39m\n\u001b[32m----> \u001b[39m\u001b[32m1\u001b[39m \u001b[38;5;28;01mimport\u001b[39;00m\u001b[38;5;250m \u001b[39m\u001b[34;01mplotly\u001b[39;00m\u001b[34;01m.\u001b[39;00m\u001b[34;01mgraph_objects\u001b[39;00m\u001b[38;5;250m \u001b[39m\u001b[38;5;28;01mas\u001b[39;00m\u001b[38;5;250m \u001b[39m\u001b[34;01mgo\u001b[39;00m\n\u001b[32m      3\u001b[39m \u001b[38;5;66;03m# effet miroir pour le violon lol\u001b[39;00m\n\u001b[32m      4\u001b[39m fig = go.Figure() \u001b[38;5;66;03m#\u001b[39;00m\n",
            "\u001b[31mModuleNotFoundError\u001b[39m: No module named 'plotly'"
          ]
        }
      ],
      "source": [
        "\n",
        "import plotly.graph_objects as go\n",
        "\n",
        "# effet miroir pour le violon lol\n",
        "fig = go.Figure() #\n",
        "\n",
        "# Hommes (côté gauche)\n",
        "fig.add_trace(go.Violin(\n",
        "    y=data[data[\"SEX\"] == \"M\"][\"WAGE\"],\n",
        "    x=[\"Sexe\"] * len(data[data[\"SEX\"] == \"M\"]),\n",
        "    name=\"Homme\",\n",
        "    side=\"negative\",\n",
        "    line_color=\"#1E90FF\",\n",
        "    fillcolor=\"rgba(30,144,255,0.6)\",\n",
        "    box_visible=True,\n",
        "    meanline_visible=True,\n",
        "    points=False  # pas de points\n",
        "))\n",
        "\n",
        "# Femmes (côté droit)\n",
        "fig.add_trace(go.Violin(\n",
        "    y=data[data[\"SEX\"] == \"F\"][\"WAGE\"],\n",
        "    x=[\"Sexe\"] * len(data[data[\"SEX\"] == \"F\"]),\n",
        "    name=\"Femme\",\n",
        "    side=\"positive\",\n",
        "    line_color=\"#FF69B4\",\n",
        "    fillcolor=\"rgba(255,105,180,0.6)\",\n",
        "    box_visible=True,\n",
        "    meanline_visible=True,\n",
        "    points=False  # pas de points\n",
        "))\n",
        "\n",
        "# Mise en page\n",
        "fig.update_layout(\n",
        "    title=\"Distribution des salaires par sexe (violon miroir)\",\n",
        "    yaxis_title=\"Salaire (€)\",\n",
        "    xaxis_title=\"Sexe\",\n",
        "    violingap=0,\n",
        "    violinmode=\"overlay\",\n",
        "    legend_title=\"Sexe\"\n",
        ")\n",
        "\n",
        "fig.show()"
      ]
    },
    {
      "cell_type": "code",
      "execution_count": null,
      "metadata": {
        "colab": {
          "base_uri": "https://localhost:8080/"
        },
        "id": "c3snmsDEwi2s",
        "outputId": "e0967705-2efe-4f46-c609-9a6eacf18f0f"
      },
      "outputs": [
        {
          "name": "stdout",
          "output_type": "stream",
          "text": [
            "Femmes\n",
            "count    93400.000000\n",
            "mean      2321.923518\n",
            "std        710.374788\n",
            "min        793.400000\n",
            "25%       1787.720000\n",
            "50%       2069.580000\n",
            "75%       2676.055000\n",
            "max       7859.410000\n",
            "Name: WAGE, dtype: float64\n",
            "\n",
            "Hommes\n",
            "count    93400.000000\n",
            "mean      2632.886691\n",
            "std        900.683567\n",
            "min       1040.130000\n",
            "25%       1947.297500\n",
            "50%       2301.445000\n",
            "75%       3029.355000\n",
            "max      14047.320000\n",
            "Name: WAGE, dtype: float64\n"
          ]
        }
      ],
      "source": [
        "# Pour les femmes\n",
        "print(\"Femmes\")\n",
        "print(data[data[\"SEX\"] == \"F\"][\"WAGE\"].describe())\n",
        "\n",
        "# Pour les hommes\n",
        "print(\"\\nHommes\")\n",
        "print(data[data[\"SEX\"] == \"M\"][\"WAGE\"].describe())"
      ]
    },
    {
      "cell_type": "code",
      "execution_count": null,
      "metadata": {
        "colab": {
          "base_uri": "https://localhost:8080/",
          "height": 542
        },
        "id": "8B2piRXcXIj4",
        "outputId": "04157852-934d-4811-fa2c-a9b92981fea2"
      },
      "outputs": [
        {
          "data": {
            "text/html": [
              "<html>\n",
              "<head><meta charset=\"utf-8\" /></head>\n",
              "<body>\n",
              "    <div>            <script src=\"https://cdnjs.cloudflare.com/ajax/libs/mathjax/2.7.5/MathJax.js?config=TeX-AMS-MML_SVG\"></script><script type=\"text/javascript\">if (window.MathJax && window.MathJax.Hub && window.MathJax.Hub.Config) {window.MathJax.Hub.Config({SVG: {font: \"STIX-Web\"}});}</script>                <script type=\"text/javascript\">window.PlotlyConfig = {MathJaxConfig: 'local'};</script>\n",
              "        <script charset=\"utf-8\" src=\"https://cdn.plot.ly/plotly-2.35.2.min.js\"></script>                <div id=\"eb8e9043-33d7-4719-82e8-7fc5f0aa9f4c\" class=\"plotly-graph-div\" style=\"height:525px; width:100%;\"></div>            <script type=\"text/javascript\">                                    window.PLOTLYENV=window.PLOTLYENV || {};                                    if (document.getElementById(\"eb8e9043-33d7-4719-82e8-7fc5f0aa9f4c\")) {                    Plotly.newPlot(                        \"eb8e9043-33d7-4719-82e8-7fc5f0aa9f4c\",                        [{\"alignmentgroup\":\"True\",\"hovertemplate\":\"Sexe=%{x}\\u003cbr\\u003eSalaire (€)=%{text}\\u003cextra\\u003e\\u003c\\u002fextra\\u003e\",\"legendgroup\":\"F\",\"marker\":{\"color\":\"#FF69B4\",\"pattern\":{\"shape\":\"\"}},\"name\":\"F\",\"offsetgroup\":\"F\",\"orientation\":\"v\",\"showlegend\":true,\"text\":[2321.923518201285],\"textposition\":\"outside\",\"x\":[\"F\"],\"xaxis\":\"x\",\"y\":[2321.923518201285],\"yaxis\":\"y\",\"type\":\"bar\",\"texttemplate\":\"%{text:.2f} €\"},{\"alignmentgroup\":\"True\",\"hovertemplate\":\"Sexe=%{x}\\u003cbr\\u003eSalaire (€)=%{text}\\u003cextra\\u003e\\u003c\\u002fextra\\u003e\",\"legendgroup\":\"M\",\"marker\":{\"color\":\"#1E90FF\",\"pattern\":{\"shape\":\"\"}},\"name\":\"M\",\"offsetgroup\":\"M\",\"orientation\":\"v\",\"showlegend\":true,\"text\":[2632.8866914346895],\"textposition\":\"outside\",\"x\":[\"M\"],\"xaxis\":\"x\",\"y\":[2632.8866914346895],\"yaxis\":\"y\",\"type\":\"bar\",\"texttemplate\":\"%{text:.2f} €\"}],                        {\"template\":{\"data\":{\"histogram2dcontour\":[{\"type\":\"histogram2dcontour\",\"colorbar\":{\"outlinewidth\":0,\"ticks\":\"\"},\"colorscale\":[[0.0,\"#0d0887\"],[0.1111111111111111,\"#46039f\"],[0.2222222222222222,\"#7201a8\"],[0.3333333333333333,\"#9c179e\"],[0.4444444444444444,\"#bd3786\"],[0.5555555555555556,\"#d8576b\"],[0.6666666666666666,\"#ed7953\"],[0.7777777777777778,\"#fb9f3a\"],[0.8888888888888888,\"#fdca26\"],[1.0,\"#f0f921\"]]}],\"choropleth\":[{\"type\":\"choropleth\",\"colorbar\":{\"outlinewidth\":0,\"ticks\":\"\"}}],\"histogram2d\":[{\"type\":\"histogram2d\",\"colorbar\":{\"outlinewidth\":0,\"ticks\":\"\"},\"colorscale\":[[0.0,\"#0d0887\"],[0.1111111111111111,\"#46039f\"],[0.2222222222222222,\"#7201a8\"],[0.3333333333333333,\"#9c179e\"],[0.4444444444444444,\"#bd3786\"],[0.5555555555555556,\"#d8576b\"],[0.6666666666666666,\"#ed7953\"],[0.7777777777777778,\"#fb9f3a\"],[0.8888888888888888,\"#fdca26\"],[1.0,\"#f0f921\"]]}],\"heatmap\":[{\"type\":\"heatmap\",\"colorbar\":{\"outlinewidth\":0,\"ticks\":\"\"},\"colorscale\":[[0.0,\"#0d0887\"],[0.1111111111111111,\"#46039f\"],[0.2222222222222222,\"#7201a8\"],[0.3333333333333333,\"#9c179e\"],[0.4444444444444444,\"#bd3786\"],[0.5555555555555556,\"#d8576b\"],[0.6666666666666666,\"#ed7953\"],[0.7777777777777778,\"#fb9f3a\"],[0.8888888888888888,\"#fdca26\"],[1.0,\"#f0f921\"]]}],\"heatmapgl\":[{\"type\":\"heatmapgl\",\"colorbar\":{\"outlinewidth\":0,\"ticks\":\"\"},\"colorscale\":[[0.0,\"#0d0887\"],[0.1111111111111111,\"#46039f\"],[0.2222222222222222,\"#7201a8\"],[0.3333333333333333,\"#9c179e\"],[0.4444444444444444,\"#bd3786\"],[0.5555555555555556,\"#d8576b\"],[0.6666666666666666,\"#ed7953\"],[0.7777777777777778,\"#fb9f3a\"],[0.8888888888888888,\"#fdca26\"],[1.0,\"#f0f921\"]]}],\"contourcarpet\":[{\"type\":\"contourcarpet\",\"colorbar\":{\"outlinewidth\":0,\"ticks\":\"\"}}],\"contour\":[{\"type\":\"contour\",\"colorbar\":{\"outlinewidth\":0,\"ticks\":\"\"},\"colorscale\":[[0.0,\"#0d0887\"],[0.1111111111111111,\"#46039f\"],[0.2222222222222222,\"#7201a8\"],[0.3333333333333333,\"#9c179e\"],[0.4444444444444444,\"#bd3786\"],[0.5555555555555556,\"#d8576b\"],[0.6666666666666666,\"#ed7953\"],[0.7777777777777778,\"#fb9f3a\"],[0.8888888888888888,\"#fdca26\"],[1.0,\"#f0f921\"]]}],\"surface\":[{\"type\":\"surface\",\"colorbar\":{\"outlinewidth\":0,\"ticks\":\"\"},\"colorscale\":[[0.0,\"#0d0887\"],[0.1111111111111111,\"#46039f\"],[0.2222222222222222,\"#7201a8\"],[0.3333333333333333,\"#9c179e\"],[0.4444444444444444,\"#bd3786\"],[0.5555555555555556,\"#d8576b\"],[0.6666666666666666,\"#ed7953\"],[0.7777777777777778,\"#fb9f3a\"],[0.8888888888888888,\"#fdca26\"],[1.0,\"#f0f921\"]]}],\"mesh3d\":[{\"type\":\"mesh3d\",\"colorbar\":{\"outlinewidth\":0,\"ticks\":\"\"}}],\"scatter\":[{\"fillpattern\":{\"fillmode\":\"overlay\",\"size\":10,\"solidity\":0.2},\"type\":\"scatter\"}],\"parcoords\":[{\"type\":\"parcoords\",\"line\":{\"colorbar\":{\"outlinewidth\":0,\"ticks\":\"\"}}}],\"scatterpolargl\":[{\"type\":\"scatterpolargl\",\"marker\":{\"colorbar\":{\"outlinewidth\":0,\"ticks\":\"\"}}}],\"bar\":[{\"error_x\":{\"color\":\"#2a3f5f\"},\"error_y\":{\"color\":\"#2a3f5f\"},\"marker\":{\"line\":{\"color\":\"#E5ECF6\",\"width\":0.5},\"pattern\":{\"fillmode\":\"overlay\",\"size\":10,\"solidity\":0.2}},\"type\":\"bar\"}],\"scattergeo\":[{\"type\":\"scattergeo\",\"marker\":{\"colorbar\":{\"outlinewidth\":0,\"ticks\":\"\"}}}],\"scatterpolar\":[{\"type\":\"scatterpolar\",\"marker\":{\"colorbar\":{\"outlinewidth\":0,\"ticks\":\"\"}}}],\"histogram\":[{\"marker\":{\"pattern\":{\"fillmode\":\"overlay\",\"size\":10,\"solidity\":0.2}},\"type\":\"histogram\"}],\"scattergl\":[{\"type\":\"scattergl\",\"marker\":{\"colorbar\":{\"outlinewidth\":0,\"ticks\":\"\"}}}],\"scatter3d\":[{\"type\":\"scatter3d\",\"line\":{\"colorbar\":{\"outlinewidth\":0,\"ticks\":\"\"}},\"marker\":{\"colorbar\":{\"outlinewidth\":0,\"ticks\":\"\"}}}],\"scattermapbox\":[{\"type\":\"scattermapbox\",\"marker\":{\"colorbar\":{\"outlinewidth\":0,\"ticks\":\"\"}}}],\"scatterternary\":[{\"type\":\"scatterternary\",\"marker\":{\"colorbar\":{\"outlinewidth\":0,\"ticks\":\"\"}}}],\"scattercarpet\":[{\"type\":\"scattercarpet\",\"marker\":{\"colorbar\":{\"outlinewidth\":0,\"ticks\":\"\"}}}],\"carpet\":[{\"aaxis\":{\"endlinecolor\":\"#2a3f5f\",\"gridcolor\":\"white\",\"linecolor\":\"white\",\"minorgridcolor\":\"white\",\"startlinecolor\":\"#2a3f5f\"},\"baxis\":{\"endlinecolor\":\"#2a3f5f\",\"gridcolor\":\"white\",\"linecolor\":\"white\",\"minorgridcolor\":\"white\",\"startlinecolor\":\"#2a3f5f\"},\"type\":\"carpet\"}],\"table\":[{\"cells\":{\"fill\":{\"color\":\"#EBF0F8\"},\"line\":{\"color\":\"white\"}},\"header\":{\"fill\":{\"color\":\"#C8D4E3\"},\"line\":{\"color\":\"white\"}},\"type\":\"table\"}],\"barpolar\":[{\"marker\":{\"line\":{\"color\":\"#E5ECF6\",\"width\":0.5},\"pattern\":{\"fillmode\":\"overlay\",\"size\":10,\"solidity\":0.2}},\"type\":\"barpolar\"}],\"pie\":[{\"automargin\":true,\"type\":\"pie\"}]},\"layout\":{\"autotypenumbers\":\"strict\",\"colorway\":[\"#636efa\",\"#EF553B\",\"#00cc96\",\"#ab63fa\",\"#FFA15A\",\"#19d3f3\",\"#FF6692\",\"#B6E880\",\"#FF97FF\",\"#FECB52\"],\"font\":{\"color\":\"#2a3f5f\"},\"hovermode\":\"closest\",\"hoverlabel\":{\"align\":\"left\"},\"paper_bgcolor\":\"white\",\"plot_bgcolor\":\"#E5ECF6\",\"polar\":{\"bgcolor\":\"#E5ECF6\",\"angularaxis\":{\"gridcolor\":\"white\",\"linecolor\":\"white\",\"ticks\":\"\"},\"radialaxis\":{\"gridcolor\":\"white\",\"linecolor\":\"white\",\"ticks\":\"\"}},\"ternary\":{\"bgcolor\":\"#E5ECF6\",\"aaxis\":{\"gridcolor\":\"white\",\"linecolor\":\"white\",\"ticks\":\"\"},\"baxis\":{\"gridcolor\":\"white\",\"linecolor\":\"white\",\"ticks\":\"\"},\"caxis\":{\"gridcolor\":\"white\",\"linecolor\":\"white\",\"ticks\":\"\"}},\"coloraxis\":{\"colorbar\":{\"outlinewidth\":0,\"ticks\":\"\"}},\"colorscale\":{\"sequential\":[[0.0,\"#0d0887\"],[0.1111111111111111,\"#46039f\"],[0.2222222222222222,\"#7201a8\"],[0.3333333333333333,\"#9c179e\"],[0.4444444444444444,\"#bd3786\"],[0.5555555555555556,\"#d8576b\"],[0.6666666666666666,\"#ed7953\"],[0.7777777777777778,\"#fb9f3a\"],[0.8888888888888888,\"#fdca26\"],[1.0,\"#f0f921\"]],\"sequentialminus\":[[0.0,\"#0d0887\"],[0.1111111111111111,\"#46039f\"],[0.2222222222222222,\"#7201a8\"],[0.3333333333333333,\"#9c179e\"],[0.4444444444444444,\"#bd3786\"],[0.5555555555555556,\"#d8576b\"],[0.6666666666666666,\"#ed7953\"],[0.7777777777777778,\"#fb9f3a\"],[0.8888888888888888,\"#fdca26\"],[1.0,\"#f0f921\"]],\"diverging\":[[0,\"#8e0152\"],[0.1,\"#c51b7d\"],[0.2,\"#de77ae\"],[0.3,\"#f1b6da\"],[0.4,\"#fde0ef\"],[0.5,\"#f7f7f7\"],[0.6,\"#e6f5d0\"],[0.7,\"#b8e186\"],[0.8,\"#7fbc41\"],[0.9,\"#4d9221\"],[1,\"#276419\"]]},\"xaxis\":{\"gridcolor\":\"white\",\"linecolor\":\"white\",\"ticks\":\"\",\"title\":{\"standoff\":15},\"zerolinecolor\":\"white\",\"automargin\":true,\"zerolinewidth\":2},\"yaxis\":{\"gridcolor\":\"white\",\"linecolor\":\"white\",\"ticks\":\"\",\"title\":{\"standoff\":15},\"zerolinecolor\":\"white\",\"automargin\":true,\"zerolinewidth\":2},\"scene\":{\"xaxis\":{\"backgroundcolor\":\"#E5ECF6\",\"gridcolor\":\"white\",\"linecolor\":\"white\",\"showbackground\":true,\"ticks\":\"\",\"zerolinecolor\":\"white\",\"gridwidth\":2},\"yaxis\":{\"backgroundcolor\":\"#E5ECF6\",\"gridcolor\":\"white\",\"linecolor\":\"white\",\"showbackground\":true,\"ticks\":\"\",\"zerolinecolor\":\"white\",\"gridwidth\":2},\"zaxis\":{\"backgroundcolor\":\"#E5ECF6\",\"gridcolor\":\"white\",\"linecolor\":\"white\",\"showbackground\":true,\"ticks\":\"\",\"zerolinecolor\":\"white\",\"gridwidth\":2}},\"shapedefaults\":{\"line\":{\"color\":\"#2a3f5f\"}},\"annotationdefaults\":{\"arrowcolor\":\"#2a3f5f\",\"arrowhead\":0,\"arrowwidth\":1},\"geo\":{\"bgcolor\":\"white\",\"landcolor\":\"#E5ECF6\",\"subunitcolor\":\"white\",\"showland\":true,\"showlakes\":true,\"lakecolor\":\"white\"},\"title\":{\"x\":0.05},\"mapbox\":{\"style\":\"light\"}}},\"xaxis\":{\"anchor\":\"y\",\"domain\":[0.0,1.0],\"title\":{\"text\":\"Sexe\"},\"categoryorder\":\"array\",\"categoryarray\":[\"F\",\"M\"]},\"yaxis\":{\"anchor\":\"x\",\"domain\":[0.0,1.0],\"title\":{\"text\":\"Salaire moyen (€)\"}},\"legend\":{\"title\":{\"text\":\"Sexe\"},\"tracegroupgap\":0},\"title\":{\"text\":\"Salaire moyen par sexe\"},\"barmode\":\"relative\"},                        {\"responsive\": true}                    ).then(function(){\n",
              "                            \n",
              "var gd = document.getElementById('eb8e9043-33d7-4719-82e8-7fc5f0aa9f4c');\n",
              "var x = new MutationObserver(function (mutations, observer) {{\n",
              "        var display = window.getComputedStyle(gd).display;\n",
              "        if (!display || display === 'none') {{\n",
              "            console.log([gd, 'removed!']);\n",
              "            Plotly.purge(gd);\n",
              "            observer.disconnect();\n",
              "        }}\n",
              "}});\n",
              "\n",
              "// Listen for the removal of the full notebook cells\n",
              "var notebookContainer = gd.closest('#notebook-container');\n",
              "if (notebookContainer) {{\n",
              "    x.observe(notebookContainer, {childList: true});\n",
              "}}\n",
              "\n",
              "// Listen for the clearing of the current output cell\n",
              "var outputEl = gd.closest('.output');\n",
              "if (outputEl) {{\n",
              "    x.observe(outputEl, {childList: true});\n",
              "}}\n",
              "\n",
              "                        })                };                            </script>        </div>\n",
              "</body>\n",
              "</html>"
            ]
          },
          "metadata": {},
          "output_type": "display_data"
        }
      ],
      "source": [
        "\n",
        "import plotly.express as px\n",
        "\n",
        "# Filtr les sexes valides et les valeurs non nulles\n",
        "df_sexe = data[data[\"SEX\"].isin([\"F\", \"M\"])].dropna(subset=[\"WAGE\"])\n",
        "\n",
        "# Calcul des moyennes\n",
        "salaire_moyen = df_sexe.groupby(\"SEX\")[\"WAGE\"].mean().reset_index()\n",
        "\n",
        "# Graphique interactif\n",
        "fig = px.bar(\n",
        "    salaire_moyen,\n",
        "    x=\"SEX\",\n",
        "    y=\"WAGE\",\n",
        "    color=\"SEX\",\n",
        "    text=\"WAGE\",\n",
        "    title=\"Salaire moyen par sexe\",\n",
        "    labels={\"WAGE\": \"Salaire (€)\", \"SEX\": \"Sexe\"},\n",
        "    color_discrete_map={\"F\": \"#FF69B4\", \"M\": \"#1E90FF\"}\n",
        ")\n",
        "\n",
        "\n",
        "fig.update_traces(texttemplate='%{text:.2f} €', textposition='outside')\n",
        "fig.update_layout(yaxis=dict(title=\"Salaire moyen (€)\"), xaxis=dict(title=\"Sexe\"))\n",
        "fig.show()\n",
        "\n"
      ]
    },
    {
      "cell_type": "markdown",
      "metadata": {
        "id": "z0JRvTtD_Ume"
      },
      "source": [
        "Evolution salariale dans le temps (22/23)"
      ]
    },
    {
      "cell_type": "code",
      "execution_count": null,
      "metadata": {
        "colab": {
          "base_uri": "https://localhost:8080/",
          "height": 542
        },
        "id": "i3WS60n224Ke",
        "outputId": "93568a85-e868-4d7e-ffb4-037beefb5721"
      },
      "outputs": [
        {
          "data": {
            "text/html": [
              "<html>\n",
              "<head><meta charset=\"utf-8\" /></head>\n",
              "<body>\n",
              "    <div>            <script src=\"https://cdnjs.cloudflare.com/ajax/libs/mathjax/2.7.5/MathJax.js?config=TeX-AMS-MML_SVG\"></script><script type=\"text/javascript\">if (window.MathJax && window.MathJax.Hub && window.MathJax.Hub.Config) {window.MathJax.Hub.Config({SVG: {font: \"STIX-Web\"}});}</script>                <script type=\"text/javascript\">window.PlotlyConfig = {MathJaxConfig: 'local'};</script>\n",
              "        <script charset=\"utf-8\" src=\"https://cdn.plot.ly/plotly-2.35.2.min.js\"></script>                <div id=\"3eff177e-2ede-4641-ab18-7e30e1e284b9\" class=\"plotly-graph-div\" style=\"height:525px; width:100%;\"></div>            <script type=\"text/javascript\">                                    window.PLOTLYENV=window.PLOTLYENV || {};                                    if (document.getElementById(\"3eff177e-2ede-4641-ab18-7e30e1e284b9\")) {                    Plotly.newPlot(                        \"3eff177e-2ede-4641-ab18-7e30e1e284b9\",                        [{\"alignmentgroup\":\"True\",\"hovertemplate\":\"Année=%{x}\\u003cbr\\u003eSalaire médian (€)=%{marker.color}\\u003cextra\\u003e\\u003c\\u002fextra\\u003e\",\"legendgroup\":\"\",\"marker\":{\"color\":[2129.725,2215.635],\"coloraxis\":\"coloraxis\",\"pattern\":{\"shape\":\"\"}},\"name\":\"\",\"offsetgroup\":\"\",\"orientation\":\"v\",\"showlegend\":false,\"text\":[2129.725,2215.635],\"textposition\":\"outside\",\"x\":[2022,2023],\"xaxis\":\"x\",\"y\":[2129.725,2215.635],\"yaxis\":\"y\",\"type\":\"bar\",\"texttemplate\":\"%{text:.2f} €\"}],                        {\"template\":{\"data\":{\"histogram2dcontour\":[{\"type\":\"histogram2dcontour\",\"colorbar\":{\"outlinewidth\":0,\"ticks\":\"\"},\"colorscale\":[[0.0,\"#0d0887\"],[0.1111111111111111,\"#46039f\"],[0.2222222222222222,\"#7201a8\"],[0.3333333333333333,\"#9c179e\"],[0.4444444444444444,\"#bd3786\"],[0.5555555555555556,\"#d8576b\"],[0.6666666666666666,\"#ed7953\"],[0.7777777777777778,\"#fb9f3a\"],[0.8888888888888888,\"#fdca26\"],[1.0,\"#f0f921\"]]}],\"choropleth\":[{\"type\":\"choropleth\",\"colorbar\":{\"outlinewidth\":0,\"ticks\":\"\"}}],\"histogram2d\":[{\"type\":\"histogram2d\",\"colorbar\":{\"outlinewidth\":0,\"ticks\":\"\"},\"colorscale\":[[0.0,\"#0d0887\"],[0.1111111111111111,\"#46039f\"],[0.2222222222222222,\"#7201a8\"],[0.3333333333333333,\"#9c179e\"],[0.4444444444444444,\"#bd3786\"],[0.5555555555555556,\"#d8576b\"],[0.6666666666666666,\"#ed7953\"],[0.7777777777777778,\"#fb9f3a\"],[0.8888888888888888,\"#fdca26\"],[1.0,\"#f0f921\"]]}],\"heatmap\":[{\"type\":\"heatmap\",\"colorbar\":{\"outlinewidth\":0,\"ticks\":\"\"},\"colorscale\":[[0.0,\"#0d0887\"],[0.1111111111111111,\"#46039f\"],[0.2222222222222222,\"#7201a8\"],[0.3333333333333333,\"#9c179e\"],[0.4444444444444444,\"#bd3786\"],[0.5555555555555556,\"#d8576b\"],[0.6666666666666666,\"#ed7953\"],[0.7777777777777778,\"#fb9f3a\"],[0.8888888888888888,\"#fdca26\"],[1.0,\"#f0f921\"]]}],\"heatmapgl\":[{\"type\":\"heatmapgl\",\"colorbar\":{\"outlinewidth\":0,\"ticks\":\"\"},\"colorscale\":[[0.0,\"#0d0887\"],[0.1111111111111111,\"#46039f\"],[0.2222222222222222,\"#7201a8\"],[0.3333333333333333,\"#9c179e\"],[0.4444444444444444,\"#bd3786\"],[0.5555555555555556,\"#d8576b\"],[0.6666666666666666,\"#ed7953\"],[0.7777777777777778,\"#fb9f3a\"],[0.8888888888888888,\"#fdca26\"],[1.0,\"#f0f921\"]]}],\"contourcarpet\":[{\"type\":\"contourcarpet\",\"colorbar\":{\"outlinewidth\":0,\"ticks\":\"\"}}],\"contour\":[{\"type\":\"contour\",\"colorbar\":{\"outlinewidth\":0,\"ticks\":\"\"},\"colorscale\":[[0.0,\"#0d0887\"],[0.1111111111111111,\"#46039f\"],[0.2222222222222222,\"#7201a8\"],[0.3333333333333333,\"#9c179e\"],[0.4444444444444444,\"#bd3786\"],[0.5555555555555556,\"#d8576b\"],[0.6666666666666666,\"#ed7953\"],[0.7777777777777778,\"#fb9f3a\"],[0.8888888888888888,\"#fdca26\"],[1.0,\"#f0f921\"]]}],\"surface\":[{\"type\":\"surface\",\"colorbar\":{\"outlinewidth\":0,\"ticks\":\"\"},\"colorscale\":[[0.0,\"#0d0887\"],[0.1111111111111111,\"#46039f\"],[0.2222222222222222,\"#7201a8\"],[0.3333333333333333,\"#9c179e\"],[0.4444444444444444,\"#bd3786\"],[0.5555555555555556,\"#d8576b\"],[0.6666666666666666,\"#ed7953\"],[0.7777777777777778,\"#fb9f3a\"],[0.8888888888888888,\"#fdca26\"],[1.0,\"#f0f921\"]]}],\"mesh3d\":[{\"type\":\"mesh3d\",\"colorbar\":{\"outlinewidth\":0,\"ticks\":\"\"}}],\"scatter\":[{\"fillpattern\":{\"fillmode\":\"overlay\",\"size\":10,\"solidity\":0.2},\"type\":\"scatter\"}],\"parcoords\":[{\"type\":\"parcoords\",\"line\":{\"colorbar\":{\"outlinewidth\":0,\"ticks\":\"\"}}}],\"scatterpolargl\":[{\"type\":\"scatterpolargl\",\"marker\":{\"colorbar\":{\"outlinewidth\":0,\"ticks\":\"\"}}}],\"bar\":[{\"error_x\":{\"color\":\"#2a3f5f\"},\"error_y\":{\"color\":\"#2a3f5f\"},\"marker\":{\"line\":{\"color\":\"#E5ECF6\",\"width\":0.5},\"pattern\":{\"fillmode\":\"overlay\",\"size\":10,\"solidity\":0.2}},\"type\":\"bar\"}],\"scattergeo\":[{\"type\":\"scattergeo\",\"marker\":{\"colorbar\":{\"outlinewidth\":0,\"ticks\":\"\"}}}],\"scatterpolar\":[{\"type\":\"scatterpolar\",\"marker\":{\"colorbar\":{\"outlinewidth\":0,\"ticks\":\"\"}}}],\"histogram\":[{\"marker\":{\"pattern\":{\"fillmode\":\"overlay\",\"size\":10,\"solidity\":0.2}},\"type\":\"histogram\"}],\"scattergl\":[{\"type\":\"scattergl\",\"marker\":{\"colorbar\":{\"outlinewidth\":0,\"ticks\":\"\"}}}],\"scatter3d\":[{\"type\":\"scatter3d\",\"line\":{\"colorbar\":{\"outlinewidth\":0,\"ticks\":\"\"}},\"marker\":{\"colorbar\":{\"outlinewidth\":0,\"ticks\":\"\"}}}],\"scattermapbox\":[{\"type\":\"scattermapbox\",\"marker\":{\"colorbar\":{\"outlinewidth\":0,\"ticks\":\"\"}}}],\"scatterternary\":[{\"type\":\"scatterternary\",\"marker\":{\"colorbar\":{\"outlinewidth\":0,\"ticks\":\"\"}}}],\"scattercarpet\":[{\"type\":\"scattercarpet\",\"marker\":{\"colorbar\":{\"outlinewidth\":0,\"ticks\":\"\"}}}],\"carpet\":[{\"aaxis\":{\"endlinecolor\":\"#2a3f5f\",\"gridcolor\":\"white\",\"linecolor\":\"white\",\"minorgridcolor\":\"white\",\"startlinecolor\":\"#2a3f5f\"},\"baxis\":{\"endlinecolor\":\"#2a3f5f\",\"gridcolor\":\"white\",\"linecolor\":\"white\",\"minorgridcolor\":\"white\",\"startlinecolor\":\"#2a3f5f\"},\"type\":\"carpet\"}],\"table\":[{\"cells\":{\"fill\":{\"color\":\"#EBF0F8\"},\"line\":{\"color\":\"white\"}},\"header\":{\"fill\":{\"color\":\"#C8D4E3\"},\"line\":{\"color\":\"white\"}},\"type\":\"table\"}],\"barpolar\":[{\"marker\":{\"line\":{\"color\":\"#E5ECF6\",\"width\":0.5},\"pattern\":{\"fillmode\":\"overlay\",\"size\":10,\"solidity\":0.2}},\"type\":\"barpolar\"}],\"pie\":[{\"automargin\":true,\"type\":\"pie\"}]},\"layout\":{\"autotypenumbers\":\"strict\",\"colorway\":[\"#636efa\",\"#EF553B\",\"#00cc96\",\"#ab63fa\",\"#FFA15A\",\"#19d3f3\",\"#FF6692\",\"#B6E880\",\"#FF97FF\",\"#FECB52\"],\"font\":{\"color\":\"#2a3f5f\"},\"hovermode\":\"closest\",\"hoverlabel\":{\"align\":\"left\"},\"paper_bgcolor\":\"white\",\"plot_bgcolor\":\"#E5ECF6\",\"polar\":{\"bgcolor\":\"#E5ECF6\",\"angularaxis\":{\"gridcolor\":\"white\",\"linecolor\":\"white\",\"ticks\":\"\"},\"radialaxis\":{\"gridcolor\":\"white\",\"linecolor\":\"white\",\"ticks\":\"\"}},\"ternary\":{\"bgcolor\":\"#E5ECF6\",\"aaxis\":{\"gridcolor\":\"white\",\"linecolor\":\"white\",\"ticks\":\"\"},\"baxis\":{\"gridcolor\":\"white\",\"linecolor\":\"white\",\"ticks\":\"\"},\"caxis\":{\"gridcolor\":\"white\",\"linecolor\":\"white\",\"ticks\":\"\"}},\"coloraxis\":{\"colorbar\":{\"outlinewidth\":0,\"ticks\":\"\"}},\"colorscale\":{\"sequential\":[[0.0,\"#0d0887\"],[0.1111111111111111,\"#46039f\"],[0.2222222222222222,\"#7201a8\"],[0.3333333333333333,\"#9c179e\"],[0.4444444444444444,\"#bd3786\"],[0.5555555555555556,\"#d8576b\"],[0.6666666666666666,\"#ed7953\"],[0.7777777777777778,\"#fb9f3a\"],[0.8888888888888888,\"#fdca26\"],[1.0,\"#f0f921\"]],\"sequentialminus\":[[0.0,\"#0d0887\"],[0.1111111111111111,\"#46039f\"],[0.2222222222222222,\"#7201a8\"],[0.3333333333333333,\"#9c179e\"],[0.4444444444444444,\"#bd3786\"],[0.5555555555555556,\"#d8576b\"],[0.6666666666666666,\"#ed7953\"],[0.7777777777777778,\"#fb9f3a\"],[0.8888888888888888,\"#fdca26\"],[1.0,\"#f0f921\"]],\"diverging\":[[0,\"#8e0152\"],[0.1,\"#c51b7d\"],[0.2,\"#de77ae\"],[0.3,\"#f1b6da\"],[0.4,\"#fde0ef\"],[0.5,\"#f7f7f7\"],[0.6,\"#e6f5d0\"],[0.7,\"#b8e186\"],[0.8,\"#7fbc41\"],[0.9,\"#4d9221\"],[1,\"#276419\"]]},\"xaxis\":{\"gridcolor\":\"white\",\"linecolor\":\"white\",\"ticks\":\"\",\"title\":{\"standoff\":15},\"zerolinecolor\":\"white\",\"automargin\":true,\"zerolinewidth\":2},\"yaxis\":{\"gridcolor\":\"white\",\"linecolor\":\"white\",\"ticks\":\"\",\"title\":{\"standoff\":15},\"zerolinecolor\":\"white\",\"automargin\":true,\"zerolinewidth\":2},\"scene\":{\"xaxis\":{\"backgroundcolor\":\"#E5ECF6\",\"gridcolor\":\"white\",\"linecolor\":\"white\",\"showbackground\":true,\"ticks\":\"\",\"zerolinecolor\":\"white\",\"gridwidth\":2},\"yaxis\":{\"backgroundcolor\":\"#E5ECF6\",\"gridcolor\":\"white\",\"linecolor\":\"white\",\"showbackground\":true,\"ticks\":\"\",\"zerolinecolor\":\"white\",\"gridwidth\":2},\"zaxis\":{\"backgroundcolor\":\"#E5ECF6\",\"gridcolor\":\"white\",\"linecolor\":\"white\",\"showbackground\":true,\"ticks\":\"\",\"zerolinecolor\":\"white\",\"gridwidth\":2}},\"shapedefaults\":{\"line\":{\"color\":\"#2a3f5f\"}},\"annotationdefaults\":{\"arrowcolor\":\"#2a3f5f\",\"arrowhead\":0,\"arrowwidth\":1},\"geo\":{\"bgcolor\":\"white\",\"landcolor\":\"#E5ECF6\",\"subunitcolor\":\"white\",\"showland\":true,\"showlakes\":true,\"lakecolor\":\"white\"},\"title\":{\"x\":0.05},\"mapbox\":{\"style\":\"light\"}}},\"xaxis\":{\"anchor\":\"y\",\"domain\":[0.0,1.0],\"title\":{\"text\":\"Année\"},\"type\":\"category\"},\"yaxis\":{\"anchor\":\"x\",\"domain\":[0.0,1.0],\"title\":{\"text\":\"Salaire médian (€)\"}},\"coloraxis\":{\"colorbar\":{\"title\":{\"text\":\"Salaire médian (€)\"}},\"colorscale\":[[0.0,\"rgb(247,251,255)\"],[0.125,\"rgb(222,235,247)\"],[0.25,\"rgb(198,219,239)\"],[0.375,\"rgb(158,202,225)\"],[0.5,\"rgb(107,174,214)\"],[0.625,\"rgb(66,146,198)\"],[0.75,\"rgb(33,113,181)\"],[0.875,\"rgb(8,81,156)\"],[1.0,\"rgb(8,48,107)\"]]},\"legend\":{\"tracegroupgap\":0},\"title\":{\"text\":\"Médiane des salaires par année\"},\"barmode\":\"relative\"},                        {\"responsive\": true}                    ).then(function(){\n",
              "                            \n",
              "var gd = document.getElementById('3eff177e-2ede-4641-ab18-7e30e1e284b9');\n",
              "var x = new MutationObserver(function (mutations, observer) {{\n",
              "        var display = window.getComputedStyle(gd).display;\n",
              "        if (!display || display === 'none') {{\n",
              "            console.log([gd, 'removed!']);\n",
              "            Plotly.purge(gd);\n",
              "            observer.disconnect();\n",
              "        }}\n",
              "}});\n",
              "\n",
              "// Listen for the removal of the full notebook cells\n",
              "var notebookContainer = gd.closest('#notebook-container');\n",
              "if (notebookContainer) {{\n",
              "    x.observe(notebookContainer, {childList: true});\n",
              "}}\n",
              "\n",
              "// Listen for the clearing of the current output cell\n",
              "var outputEl = gd.closest('.output');\n",
              "if (outputEl) {{\n",
              "    x.observe(outputEl, {childList: true});\n",
              "}}\n",
              "\n",
              "                        })                };                            </script>        </div>\n",
              "</body>\n",
              "</html>"
            ]
          },
          "metadata": {},
          "output_type": "display_data"
        }
      ],
      "source": [
        "\n",
        "# Filtrer les salaires et années valides\n",
        "df_year = data[data[\"WAGE\"].notna() & data[\"YEAR\"].notna()]\n",
        "\n",
        "# Calcul de la médiane par année\n",
        "mediane_par_annee = df_year.groupby(\"YEAR\")[\"WAGE\"].median().reset_index()\n",
        "mediane_par_annee.columns = [\"Année\", \"Médiane salaire (€)\"]\n",
        "\n",
        "# Graphique interactif\n",
        "fig = px.bar(\n",
        "    mediane_par_annee.sort_values(\"Année\"),\n",
        "    x=\"Année\",\n",
        "    y=\"Médiane salaire (€)\",\n",
        "    text=\"Médiane salaire (€)\",\n",
        "    title=\"Médiane des salaires par année\",\n",
        "    labels={\"Année\": \"Année\", \"Médiane salaire (€)\": \"Salaire médian (€)\"},\n",
        "    color=\"Médiane salaire (€)\",\n",
        "    color_continuous_scale=\"Blues\"\n",
        ")\n",
        "\n",
        "fig.update_traces(texttemplate='%{text:.2f} €', textposition='outside')\n",
        "fig.update_layout(xaxis=dict(type='category'))\n",
        "fig.show()"
      ]
    },
    {
      "cell_type": "code",
      "execution_count": null,
      "metadata": {
        "colab": {
          "base_uri": "https://localhost:8080/"
        },
        "id": "GBHD-9T35JG6",
        "outputId": "58e06856-b284-4f01-c1d5-6b0a5755c2f0"
      },
      "outputs": [
        {
          "name": "stdout",
          "output_type": "stream",
          "text": [
            "      salaire_médian\n",
            "YEAR                \n",
            "2022         2129.72\n",
            "2023         2215.64\n",
            " Évolution médiane 2022→2023 : 85.91 €  (4.03 %)\n"
          ]
        }
      ],
      "source": [
        "# Calcul de la médiane salariale par année\n",
        "evol_series = (\n",
        "    data.groupby(\"YEAR\")[\"WAGE\"]\n",
        "        .median()\n",
        "        .sort_index()\n",
        ")\n",
        "\n",
        "# Tableau récapitulatif\n",
        "evol_df = evol_series.round(2).to_frame(\"salaire_médian\")\n",
        "print(evol_df)\n",
        "\n",
        "# Calcul écart 2022 → 2023\n",
        "if 2022 in evol_series.index and 2023 in evol_series.index:\n",
        "    v22 = float(evol_series.loc[2022])\n",
        "    v23 = float(evol_series.loc[2023])\n",
        "    diff = v23 - v22\n",
        "    pct = (diff / v22) * 100 if v22 != 0 else float(\"nan\")\n",
        "    print(f\" Évolution médiane 2022→2023 : {diff:.2f} €  ({pct:.2f} %)\")\n",
        "else:\n",
        "    print(\" Années 2022 et/ou 2023 absentes des données.\")"
      ]
    },
    {
      "cell_type": "code",
      "execution_count": null,
      "metadata": {
        "colab": {
          "base_uri": "https://localhost:8080/"
        },
        "id": "dtyNSP9S6WB-",
        "outputId": "65ecb7ac-2307-416f-86ee-465438f08956"
      },
      "outputs": [
        {
          "name": "stdout",
          "output_type": "stream",
          "text": [
            "\n",
            " Médiane des salaires par ville et PCS :\n",
            "        CITY PCS     WAGE\n",
            "26292  62270   3  7613.68\n",
            "31100  75107   3  6759.74\n",
            "32340  77441   3  6670.60\n",
            "31868  77101   3  6670.60\n",
            "37064  94037   3  6652.72\n",
            "...      ...  ..      ...\n",
            "3803   14104   6  1029.59\n",
            "2951   11279   6  1028.12\n",
            "2831   11105   6  1028.12\n",
            "3971   14229   6  1022.54\n",
            "22683  54318   6   998.83\n",
            "\n",
            "[38252 rows x 3 columns]\n"
          ]
        }
      ],
      "source": [
        "# Filtrer les données valides\n",
        "df_valid = data[data[\"WAGE\"].notna() & data[\"CITY\"].notna() & data[\"PCS\"].notna()]\n",
        "\n",
        "# Calcul des médianes par ville et PCS\n",
        "mediane_ville_pcs = (\n",
        "    df_valid.groupby([\"CITY\", \"PCS\"])[\"WAGE\"]\n",
        "    .median()\n",
        "    .reset_index()\n",
        "    .round(2)\n",
        ")\n",
        "\n",
        "# Affichage\n",
        "print(\"\\n Médiane des salaires par ville et PCS :\")\n",
        "print(mediane_ville_pcs.sort_values(by=\"WAGE\", ascending=False))"
      ]
    },
    {
      "cell_type": "markdown",
      "metadata": {
        "id": "iFnI9Fvx_6v5"
      },
      "source": [
        "Salaire par catégorie socio-professionnelle"
      ]
    },
    {
      "cell_type": "code",
      "execution_count": null,
      "metadata": {
        "colab": {
          "base_uri": "https://localhost:8080/"
        },
        "id": "20i_uFVu__R6",
        "outputId": "584d34ac-dc03-48d1-addb-0d8d756e6b21"
      },
      "outputs": [
        {
          "name": "stdout",
          "output_type": "stream",
          "text": [
            "     moyenne  mediane      n\n",
            "PCS                         \n",
            "3    3683.01  3608.06  46700\n",
            "4    2468.10  2427.34  46700\n",
            "6    1882.10  1880.32  46700\n",
            "5    1876.41  1852.36  46700\n",
            "Écart Top − Bottom PCS : 1806.60 €\n"
          ]
        }
      ],
      "source": [
        "# Salaire par catégorie socio-professionnelle\n",
        "pcs_stats = (\n",
        "    data.groupby(\"PCS\")[\"WAGE\"]\n",
        "        .agg(moyenne=\"mean\", mediane=\"median\", n=\"size\")\n",
        "        .sort_values(\"moyenne\", ascending=False)\n",
        "        .round(2)\n",
        ")\n",
        "\n",
        "print(pcs_stats)\n",
        "\n",
        "# Écart entre la PCS la mieux rémunérée et la moins rémunérée\n",
        "if len(pcs_stats) >= 2:\n",
        "    top = pcs_stats[\"moyenne\"].iloc[0]\n",
        "    low = pcs_stats[\"moyenne\"].iloc[-1]\n",
        "    ecart = top - low\n",
        "    print(f\"Écart Top − Bottom PCS : {ecart:.2f} €\")\n"
      ]
    },
    {
      "cell_type": "markdown",
      "metadata": {
        "id": "8FAZrK3qBK7A"
      },
      "source": [
        "Salaire moyen par PCS et par ville"
      ]
    },
    {
      "cell_type": "code",
      "execution_count": null,
      "metadata": {
        "colab": {
          "base_uri": "https://localhost:8080/"
        },
        "id": "pSi602vOBRUi",
        "outputId": "80ba56be-6817-43ec-c72c-1ad4c15f9730"
      },
      "outputs": [
        {
          "name": "stdout",
          "output_type": "stream",
          "text": [
            "     CITY PCS     WAGE\n",
            "0     001   3  5120.56\n",
            "1     001   4  2839.87\n",
            "2     001   5  2045.07\n",
            "3     001   6  1911.92\n",
            "4   00152   3  2743.33\n",
            "5   00152   4  2317.09\n",
            "6   00152   5  1836.74\n",
            "7   00152   6  1831.50\n",
            "8   00154   3  3556.35\n",
            "9   00154   4  2556.26\n",
            "11  00154   6  1977.45\n",
            "10  00154   5  1748.20\n",
            "12  00156   3  3715.19\n",
            "13  00156   4  2296.37\n",
            "15  00156   6  1857.17\n",
            "14  00156   5  1814.23\n",
            "16  00158   3  3960.46\n",
            "17  00158   4  2511.16\n",
            "19  00158   6  2026.72\n",
            "18  00158   5  1822.96\n"
          ]
        }
      ],
      "source": [
        "# Salaire moyen par PCS et par ville\n",
        "pcs_ville = (\n",
        "    data.groupby([\"CITY\", \"PCS\"])[\"WAGE\"]\n",
        "        .mean()\n",
        "        .reset_index()\n",
        "        .round(2)\n",
        "        .sort_values(by=[\"CITY\", \"WAGE\"], ascending=[True, False])\n",
        ")\n",
        "\n",
        "print(pcs_ville.head(20))  # affiche les 20 premières lignes\n"
      ]
    },
    {
      "cell_type": "markdown",
      "metadata": {
        "id": "ZZUGtRH8BaSL"
      },
      "source": [
        "analyser une ville spécifique"
      ]
    },
    {
      "cell_type": "markdown",
      "metadata": {
        "id": "7LiEF87mDc-y"
      },
      "source": [
        "A) Normaliser le code ville et calculer PCS × ville"
      ]
    },
    {
      "cell_type": "code",
      "execution_count": null,
      "metadata": {
        "colab": {
          "base_uri": "https://localhost:8080/"
        },
        "id": "ptdXZlVqDgcU",
        "outputId": "09b831b5-7411-4fe7-f1da-56d9acc5dacf"
      },
      "outputs": [
        {
          "name": "stdout",
          "output_type": "stream",
          "text": [
            "   CITY_CODE PCS     WAGE\n",
            "0      00001   3  4480.64\n",
            "1      00001   4  2695.89\n",
            "2      00001   5  1977.31\n",
            "3      00001   6  1887.28\n",
            "4      00002   3  3330.35\n",
            "5      00002   4  2463.91\n",
            "6      00002   5  1884.41\n",
            "7      00002   6  1844.91\n",
            "8      00003   3  4020.13\n",
            "9      00003   4  2626.38\n",
            "10     00003   5  1893.77\n",
            "11     00003   6  1874.41\n",
            "12     00004   3  3832.34\n",
            "13     00004   4  2468.09\n",
            "14     00004   5  1861.08\n"
          ]
        }
      ],
      "source": [
        "import pandas as pd\n",
        "import numpy as np\n",
        "import matplotlib.pyplot as plt\n",
        "\n",
        "# 1) Code ville normalisé sur 5 chiffres (style code INSEE)\n",
        "data[\"CITY_CODE\"] = (\n",
        "    data[\"CITY\"].astype(str)\n",
        "        .str.extract(r\"(\\d+)\", expand=False)   # garde les chiffres\n",
        "        .fillna(data[\"CITY\"].astype(str))      # si pas de chiffres, garde tel quel\n",
        "        .str.zfill(5)                          # zero-padding à gauche\n",
        ")\n",
        "\n",
        "# (option) Filtrer une année\n",
        "# data = data[data[\"YEAR\"] == 2023]\n",
        "\n",
        "# 2) Salaire moyen par ville × PCS\n",
        "pcs_city = (\n",
        "    data.groupby([\"CITY_CODE\", \"PCS\"])[\"WAGE\"]\n",
        "        .mean()\n",
        "        .reset_index()\n",
        "        .round(2)\n",
        ")\n",
        "\n",
        "print(pcs_city.head(15))\n"
      ]
    },
    {
      "cell_type": "markdown",
      "metadata": {
        "id": "YmDp-w6nD6ER"
      },
      "source": [
        "Top 10 villes (codes) où une PCS donnée est la mieux payée"
      ]
    },
    {
      "cell_type": "code",
      "execution_count": null,
      "metadata": {
        "colab": {
          "base_uri": "https://localhost:8080/"
        },
        "id": "kAzvov2pEDhd",
        "outputId": "0a546ae6-02b9-4fe7-afa4-8fb64163f9cb"
      },
      "outputs": [
        {
          "name": "stdout",
          "output_type": "stream",
          "text": [
            "      CITY_CODE PCS     WAGE\n",
            "26408     62270   3  7364.80\n",
            "30804     75107   3  6922.01\n",
            "36064     94037   3  6684.50\n",
            "31360     77101   3  6628.93\n",
            "31820     77441   3  6628.93\n",
            "30808     75108   3  6462.84\n",
            "35984     93073   3  6368.51\n",
            "30780     75101   3  6290.76\n",
            "21452     45273   3  6281.40\n",
            "16696     33099   3  6205.11\n"
          ]
        }
      ],
      "source": [
        "TARGET_PCS = \"3\"  # change selon ta PCS (ex: \"3\", \"4\", \"5\", \"6\")\n",
        "top10 = (pcs_city[pcs_city[\"PCS\"] == TARGET_PCS]\n",
        "         .sort_values(\"WAGE\", ascending=False)\n",
        "         .head(10))\n",
        "print(top10)\n"
      ]
    },
    {
      "cell_type": "markdown",
      "metadata": {
        "id": "4OwPXhSAELlL"
      },
      "source": [
        "Comparer toutes les PCS pour une ville (par code) :"
      ]
    },
    {
      "cell_type": "code",
      "execution_count": null,
      "metadata": {
        "colab": {
          "base_uri": "https://localhost:8080/",
          "height": 574
        },
        "id": "AhRLAThUEN9V",
        "outputId": "50824749-5d3a-4f36-d8cd-1a785499c394"
      },
      "outputs": [
        {
          "name": "stdout",
          "output_type": "stream",
          "text": [
            "    CITY_CODE PCS     WAGE\n",
            "616     00154   3  3558.46\n",
            "617     00154   4  2447.22\n",
            "619     00154   6  1900.39\n",
            "618     00154   5  1787.52\n"
          ]
        },
        {
          "data": {
            "image/png": "[encoded data removed]",
            "text/plain": [
              "<Figure size 640x480 with 1 Axes>"
            ]
          },
          "metadata": {},
          "output_type": "display_data"
        }
      ],
      "source": [
        "CITY_CHOICE = \"00154\"  # mets ici un code vu dans tes données\n",
        "subset = (pcs_city[pcs_city[\"CITY_CODE\"] == CITY_CHOICE]\n",
        "          .sort_values(\"WAGE\", ascending=False))\n",
        "print(subset)\n",
        "\n",
        "# Graphique si non vide\n",
        "if not subset.empty:\n",
        "    ax = subset.plot(kind=\"bar\", x=\"PCS\", y=\"WAGE\", legend=False)\n",
        "    ax.set_title(f\"Salaire moyen par PCS — ville {CITY_CHOICE}\")\n",
        "    ax.set_ylabel(\"€ net (moyenne)\")\n",
        "    ax.set_xlabel(\"PCS\")\n",
        "    plt.xticks(rotation=0)\n",
        "    plt.tight_layout()\n",
        "    plt.show()\n"
      ]
    },
    {
      "cell_type": "markdown",
      "metadata": {
        "id": "yKog6aaLEXIh"
      },
      "source": [
        "Tableau comparatif large (lignes = villes, colonnes = PCS) :"
      ]
    },
    {
      "cell_type": "code",
      "execution_count": null,
      "metadata": {
        "colab": {
          "base_uri": "https://localhost:8080/"
        },
        "id": "GcHov7QiEf50",
        "outputId": "b2a1e7b9-08ea-48df-bb50-e86277f3f3d8"
      },
      "outputs": [
        {
          "name": "stdout",
          "output_type": "stream",
          "text": [
            "PCS              3        4        5        6\n",
            "CITY_CODE                                    \n",
            "00001      4480.64  2695.89  1977.31  1887.28\n",
            "00002      3330.35  2463.91  1884.41  1844.91\n",
            "00003      4020.13  2626.38  1893.77  1874.41\n",
            "00004      3832.34  2468.09  1861.08  1802.89\n",
            "00005      3595.54  2448.04  1874.03  1854.82\n"
          ]
        }
      ],
      "source": [
        "pivot = pcs_city.pivot(index=\"CITY_CODE\", columns=\"PCS\", values=\"WAGE\")\n",
        "print(pivot.head())\n",
        "# Export si besoin\n",
        "# pivot.to_csv(\"salaires_pcs_par_ville_code.csv\")\n"
      ]
    },
    {
      "cell_type": "code",
      "execution_count": 45,
      "metadata": {
        "colab": {
          "base_uri": "https://localhost:8080/",
          "height": 1000
        },
        "id": "OSbjd3r0nZxI",
        "outputId": "101206a5-bb52-4eed-f830-79d7de1f6d1b"
      },
      "outputs": [
        {
          "data": {
            "image/png": "[encoded data removed]",
            "text/plain": [
              "<Figure size 1000x800 with 2 Axes>"
            ]
          },
          "metadata": {},
          "output_type": "display_data"
        },
        {
          "name": "stdout",
          "output_type": "stream",
          "text": [
            "\n",
            "Tableau de contingence : CITY x SEX\n",
            "SEX    F  M\n",
            "CITY       \n",
            "001    8  8\n",
            "00152  8  8\n",
            "00154  8  8\n",
            "00156  8  8\n",
            "00158  8  8\n",
            "...   .. ..\n",
            "GEN    8  8\n",
            "LAU    8  8\n",
            "LUX    8  8\n",
            "MON    8  8\n",
            "SAR    8  8\n",
            "\n",
            "[9563 rows x 2 columns]\n",
            "\n",
            "Tableau de contingence : CITY x PCS\n",
            "PCS    3  4  5  6\n",
            "CITY             \n",
            "001    4  4  4  4\n",
            "00152  4  4  4  4\n",
            "00154  4  4  4  4\n",
            "00156  4  4  4  4\n",
            "00158  4  4  4  4\n",
            "...   .. .. .. ..\n",
            "GEN    4  4  4  4\n",
            "LAU    4  4  4  4\n",
            "LUX    4  4  4  4\n",
            "MON    4  4  4  4\n",
            "SAR    4  4  4  4\n",
            "\n",
            "[9563 rows x 4 columns]\n",
            "\n",
            "Tableau de contingence : CITY x YEAR\n",
            "YEAR   2022  2023\n",
            "CITY             \n",
            "001       8     8\n",
            "00152     8     8\n",
            "00154     8     8\n",
            "00156     8     8\n",
            "00158     8     8\n",
            "...     ...   ...\n",
            "GEN       8     8\n",
            "LAU       8     8\n",
            "LUX       8     8\n",
            "MON       8     8\n",
            "SAR       8     8\n",
            "\n",
            "[9563 rows x 2 columns]\n",
            "\n",
            "Tableau de contingence : SEX x PCS\n",
            "PCS      3      4      5      6\n",
            "SEX                            \n",
            "F    23350  23350  23350  23350\n",
            "M    23350  23350  23350  23350\n",
            "\n",
            "Tableau de contingence : SEX x YEAR\n",
            "YEAR   2022   2023\n",
            "SEX               \n",
            "F     46700  46700\n",
            "M     46700  46700\n",
            "\n",
            "Tableau de contingence : PCS x YEAR\n",
            "YEAR   2022   2023\n",
            "PCS               \n",
            "3     23350  23350\n",
            "4     23350  23350\n",
            "5     23350  23350\n",
            "6     23350  23350\n"
          ]
        }
      ],
      "source": [
        "import pandas as pd\n",
        "import seaborn as sns\n",
        "import matplotlib.pyplot as plt\n",
        "from sklearn.preprocessing import LabelEncoder\n",
        "\n",
        "#Variables quali vs quanti\n",
        "quant_cols = ['WAGE']  # seules les variables numériques réelles\n",
        "quali_cols = ['CITY','SEX', 'PCS', 'YEAR']\n",
        "\n",
        "#Encoder les variables qualitatives pour corr\n",
        "df_encoded = data.copy()\n",
        "label_encoders = {}\n",
        "for col in quali_cols:\n",
        "    le = LabelEncoder()\n",
        "    df_encoded[col] = le.fit_transform(df_encoded[col])\n",
        "    label_encoders[col] = le\n",
        "\n",
        "cols_to_corr = quant_cols + quali_cols  # WAGE + CITY_CODE, SEX, PCS, YEAR\n",
        "df_corr = df_encoded[cols_to_corr]\n",
        "\n",
        "# Matrice de corrélation\n",
        "corr_matrix = df_corr.corr(numeric_only=True)\n",
        "\n",
        "# HEATMAP\n",
        "plt.figure(figsize=(10, 8))\n",
        "sns.heatmap(corr_matrix, annot=True, cmap='coolwarm', fmt=\".2f\")\n",
        "plt.title(\"Matrice de corrélation (quantitative + quali encodées)\")\n",
        "plt.show()\n",
        "\n",
        "# Tableau de contingence\n",
        "for i in range(len(quali_cols)):\n",
        "    for j in range(i+1, len(quali_cols)):\n",
        "        col1 = quali_cols[i]\n",
        "        col2 = quali_cols[j]\n",
        "        print(f\"\\nTableau de contingence : {col1} x {col2}\")\n",
        "        print(pd.crosstab(data[col1], data[col2]))"
      ]
    },
    {
      "cell_type": "code",
      "execution_count": null,
      "metadata": {
        "colab": {
          "base_uri": "https://localhost:8080/"
        },
        "id": "IfJcLwEBEAkK",
        "outputId": "9b37fd44-2a7e-4d0a-dd32-c30289922d48"
      },
      "outputs": [
        {
          "name": "stdout",
          "output_type": "stream",
          "text": [
            "CITY             object\n",
            "INSEE ZONING     object\n",
            "SEX               int64\n",
            "PCS               int64\n",
            "YEAR              int64\n",
            "WAGE            float64\n",
            "CITY_CODE         int64\n",
            "dtype: object\n"
          ]
        }
      ],
      "source": [
        "print(df_encoded.dtypes)"
      ]
    },
    {
      "cell_type": "code",
      "execution_count": null,
      "metadata": {
        "id": "420C4OJVxKcO"
      },
      "outputs": [],
      "source": [
        "#Partie Machine Learning\n",
        "#Variable cible = WAGE\n",
        "#Features = Ne pas prendre la ville car corrélé à l'insee zoning et + précis\n",
        "\n",
        "#Importer les librairies ML\n",
        "\n",
        "import sklearn.model_selection\n",
        "from sklearn.model_selection import train_test_split\n",
        "from sklearn.linear_model import LinearRegression\n",
        "from sklearn.metrics import mean_squared_error, r2_score\n"
      ]
    },
    {
      "cell_type": "code",
      "execution_count": null,
      "metadata": {
        "id": "sTjd9R8S0yi3"
      },
      "outputs": [],
      "source": [
        "df = data.copy() #Dataframe dédié\n",
        "y = df[\"WAGE\"] # variable target"
      ]
    },
    {
      "cell_type": "code",
      "execution_count": 46,
      "metadata": {
        "id": "dLs82QPI07Xp"
      },
      "outputs": [],
      "source": [
        "#On encode les variables quali avec One Hot Encoder\n",
        "from sklearn.preprocessing import OneHotEncoder\n",
        "from sklearn.compose import ColumnTransformer\n",
        "\n",
        "#Features qualitatives\n",
        "cat_features = ['SEX', 'PCS', 'YEAR', 'CITY']\n",
        "\n",
        "# OneHotEncoder + transformation automatique\n",
        "encoder = ColumnTransformer(\n",
        "    transformers=[\n",
        "        ('cat', OneHotEncoder(drop='first'), cat_features)\n",
        "    ]\n",
        ")\n",
        "\n",
        "# Transformer les features\n",
        "X_encoded = encoder.fit_transform(data[cat_features])"
      ]
    },
    {
      "cell_type": "code",
      "execution_count": 47,
      "metadata": {
        "id": "6b8IXcmu1qnM"
      },
      "outputs": [],
      "source": [
        "#On divise en ensemble train et test\n",
        "X = df_encoded[quali_cols]  # tes features encodées\n",
        "y = df_encoded['WAGE']       # ta cible\n",
        "X_train, X_test, y_train, y_test = train_test_split(X_encoded, y, test_size=0.2, random_state=42) #On utilise bien le X_encoded pour avoir nos variables transformées"
      ]
    },
    {
      "cell_type": "code",
      "execution_count": null,
      "metadata": {
        "colab": {
          "base_uri": "https://localhost:8080/",
          "height": 80
        },
        "id": "NCwycvzL3hZi",
        "outputId": "770e554f-8907-45ee-90f6-3e5972f98c53"
      },
      "outputs": [
        {
          "data": {
            "text/html": [
              "<style>#sk-container-id-1 {\n",
              "  /* Definition of color scheme common for light and dark mode */\n",
              "  --sklearn-color-text: #000;\n",
              "  --sklearn-color-text-muted: #666;\n",
              "  --sklearn-color-line: gray;\n",
              "  /* Definition of color scheme for unfitted estimators */\n",
              "  --sklearn-color-unfitted-level-0: #fff5e6;\n",
              "  --sklearn-color-unfitted-level-1: #f6e4d2;\n",
              "  --sklearn-color-unfitted-level-2: #ffe0b3;\n",
              "  --sklearn-color-unfitted-level-3: chocolate;\n",
              "  /* Definition of color scheme for fitted estimators */\n",
              "  --sklearn-color-fitted-level-0: #f0f8ff;\n",
              "  --sklearn-color-fitted-level-1: #d4ebff;\n",
              "  --sklearn-color-fitted-level-2: #b3dbfd;\n",
              "  --sklearn-color-fitted-level-3: cornflowerblue;\n",
              "\n",
              "  /* Specific color for light theme */\n",
              "  --sklearn-color-text-on-default-background: var(--sg-text-color, var(--theme-code-foreground, var(--jp-content-font-color1, black)));\n",
              "  --sklearn-color-background: var(--sg-background-color, var(--theme-background, var(--jp-layout-color0, white)));\n",
              "  --sklearn-color-border-box: var(--sg-text-color, var(--theme-code-foreground, var(--jp-content-font-color1, black)));\n",
              "  --sklearn-color-icon: #696969;\n",
              "\n",
              "  @media (prefers-color-scheme: dark) {\n",
              "    /* Redefinition of color scheme for dark theme */\n",
              "    --sklearn-color-text-on-default-background: var(--sg-text-color, var(--theme-code-foreground, var(--jp-content-font-color1, white)));\n",
              "    --sklearn-color-background: var(--sg-background-color, var(--theme-background, var(--jp-layout-color0, #111)));\n",
              "    --sklearn-color-border-box: var(--sg-text-color, var(--theme-code-foreground, var(--jp-content-font-color1, white)));\n",
              "    --sklearn-color-icon: #878787;\n",
              "  }\n",
              "}\n",
              "\n",
              "#sk-container-id-1 {\n",
              "  color: var(--sklearn-color-text);\n",
              "}\n",
              "\n",
              "#sk-container-id-1 pre {\n",
              "  padding: 0;\n",
              "}\n",
              "\n",
              "#sk-container-id-1 input.sk-hidden--visually {\n",
              "  border: 0;\n",
              "  clip: rect(1px 1px 1px 1px);\n",
              "  clip: rect(1px, 1px, 1px, 1px);\n",
              "  height: 1px;\n",
              "  margin: -1px;\n",
              "  overflow: hidden;\n",
              "  padding: 0;\n",
              "  position: absolute;\n",
              "  width: 1px;\n",
              "}\n",
              "\n",
              "#sk-container-id-1 div.sk-dashed-wrapped {\n",
              "  border: 1px dashed var(--sklearn-color-line);\n",
              "  margin: 0 0.4em 0.5em 0.4em;\n",
              "  box-sizing: border-box;\n",
              "  padding-bottom: 0.4em;\n",
              "  background-color: var(--sklearn-color-background);\n",
              "}\n",
              "\n",
              "#sk-container-id-1 div.sk-container {\n",
              "  /* jupyter's `normalize.less` sets `[hidden] { display: none; }`\n",
              "     but bootstrap.min.css set `[hidden] { display: none !important; }`\n",
              "     so we also need the `!important` here to be able to override the\n",
              "     default hidden behavior on the sphinx rendered scikit-learn.org.\n",
              "     See: https://github.com/scikit-learn/scikit-learn/issues/21755 */\n",
              "  display: inline-block !important;\n",
              "  position: relative;\n",
              "}\n",
              "\n",
              "#sk-container-id-1 div.sk-text-repr-fallback {\n",
              "  display: none;\n",
              "}\n",
              "\n",
              "div.sk-parallel-item,\n",
              "div.sk-serial,\n",
              "div.sk-item {\n",
              "  /* draw centered vertical line to link estimators */\n",
              "  background-image: linear-gradient(var(--sklearn-color-text-on-default-background), var(--sklearn-color-text-on-default-background));\n",
              "  background-size: 2px 100%;\n",
              "  background-repeat: no-repeat;\n",
              "  background-position: center center;\n",
              "}\n",
              "\n",
              "/* Parallel-specific style estimator block */\n",
              "\n",
              "#sk-container-id-1 div.sk-parallel-item::after {\n",
              "  content: \"\";\n",
              "  width: 100%;\n",
              "  border-bottom: 2px solid var(--sklearn-color-text-on-default-background);\n",
              "  flex-grow: 1;\n",
              "}\n",
              "\n",
              "#sk-container-id-1 div.sk-parallel {\n",
              "  display: flex;\n",
              "  align-items: stretch;\n",
              "  justify-content: center;\n",
              "  background-color: var(--sklearn-color-background);\n",
              "  position: relative;\n",
              "}\n",
              "\n",
              "#sk-container-id-1 div.sk-parallel-item {\n",
              "  display: flex;\n",
              "  flex-direction: column;\n",
              "}\n",
              "\n",
              "#sk-container-id-1 div.sk-parallel-item:first-child::after {\n",
              "  align-self: flex-end;\n",
              "  width: 50%;\n",
              "}\n",
              "\n",
              "#sk-container-id-1 div.sk-parallel-item:last-child::after {\n",
              "  align-self: flex-start;\n",
              "  width: 50%;\n",
              "}\n",
              "\n",
              "#sk-container-id-1 div.sk-parallel-item:only-child::after {\n",
              "  width: 0;\n",
              "}\n",
              "\n",
              "/* Serial-specific style estimator block */\n",
              "\n",
              "#sk-container-id-1 div.sk-serial {\n",
              "  display: flex;\n",
              "  flex-direction: column;\n",
              "  align-items: center;\n",
              "  background-color: var(--sklearn-color-background);\n",
              "  padding-right: 1em;\n",
              "  padding-left: 1em;\n",
              "}\n",
              "\n",
              "\n",
              "/* Toggleable style: style used for estimator/Pipeline/ColumnTransformer box that is\n",
              "clickable and can be expanded/collapsed.\n",
              "- Pipeline and ColumnTransformer use this feature and define the default style\n",
              "- Estimators will overwrite some part of the style using the `sk-estimator` class\n",
              "*/\n",
              "\n",
              "/* Pipeline and ColumnTransformer style (default) */\n",
              "\n",
              "#sk-container-id-1 div.sk-toggleable {\n",
              "  /* Default theme specific background. It is overwritten whether we have a\n",
              "  specific estimator or a Pipeline/ColumnTransformer */\n",
              "  background-color: var(--sklearn-color-background);\n",
              "}\n",
              "\n",
              "/* Toggleable label */\n",
              "#sk-container-id-1 label.sk-toggleable__label {\n",
              "  cursor: pointer;\n",
              "  display: flex;\n",
              "  width: 100%;\n",
              "  margin-bottom: 0;\n",
              "  padding: 0.5em;\n",
              "  box-sizing: border-box;\n",
              "  text-align: center;\n",
              "  align-items: start;\n",
              "  justify-content: space-between;\n",
              "  gap: 0.5em;\n",
              "}\n",
              "\n",
              "#sk-container-id-1 label.sk-toggleable__label .caption {\n",
              "  font-size: 0.6rem;\n",
              "  font-weight: lighter;\n",
              "  color: var(--sklearn-color-text-muted);\n",
              "}\n",
              "\n",
              "#sk-container-id-1 label.sk-toggleable__label-arrow:before {\n",
              "  /* Arrow on the left of the label */\n",
              "  content: \"▸\";\n",
              "  float: left;\n",
              "  margin-right: 0.25em;\n",
              "  color: var(--sklearn-color-icon);\n",
              "}\n",
              "\n",
              "#sk-container-id-1 label.sk-toggleable__label-arrow:hover:before {\n",
              "  color: var(--sklearn-color-text);\n",
              "}\n",
              "\n",
              "/* Toggleable content - dropdown */\n",
              "\n",
              "#sk-container-id-1 div.sk-toggleable__content {\n",
              "  max-height: 0;\n",
              "  max-width: 0;\n",
              "  overflow: hidden;\n",
              "  text-align: left;\n",
              "  /* unfitted */\n",
              "  background-color: var(--sklearn-color-unfitted-level-0);\n",
              "}\n",
              "\n",
              "#sk-container-id-1 div.sk-toggleable__content.fitted {\n",
              "  /* fitted */\n",
              "  background-color: var(--sklearn-color-fitted-level-0);\n",
              "}\n",
              "\n",
              "#sk-container-id-1 div.sk-toggleable__content pre {\n",
              "  margin: 0.2em;\n",
              "  border-radius: 0.25em;\n",
              "  color: var(--sklearn-color-text);\n",
              "  /* unfitted */\n",
              "  background-color: var(--sklearn-color-unfitted-level-0);\n",
              "}\n",
              "\n",
              "#sk-container-id-1 div.sk-toggleable__content.fitted pre {\n",
              "  /* unfitted */\n",
              "  background-color: var(--sklearn-color-fitted-level-0);\n",
              "}\n",
              "\n",
              "#sk-container-id-1 input.sk-toggleable__control:checked~div.sk-toggleable__content {\n",
              "  /* Expand drop-down */\n",
              "  max-height: 200px;\n",
              "  max-width: 100%;\n",
              "  overflow: auto;\n",
              "}\n",
              "\n",
              "#sk-container-id-1 input.sk-toggleable__control:checked~label.sk-toggleable__label-arrow:before {\n",
              "  content: \"▾\";\n",
              "}\n",
              "\n",
              "/* Pipeline/ColumnTransformer-specific style */\n",
              "\n",
              "#sk-container-id-1 div.sk-label input.sk-toggleable__control:checked~label.sk-toggleable__label {\n",
              "  color: var(--sklearn-color-text);\n",
              "  background-color: var(--sklearn-color-unfitted-level-2);\n",
              "}\n",
              "\n",
              "#sk-container-id-1 div.sk-label.fitted input.sk-toggleable__control:checked~label.sk-toggleable__label {\n",
              "  background-color: var(--sklearn-color-fitted-level-2);\n",
              "}\n",
              "\n",
              "/* Estimator-specific style */\n",
              "\n",
              "/* Colorize estimator box */\n",
              "#sk-container-id-1 div.sk-estimator input.sk-toggleable__control:checked~label.sk-toggleable__label {\n",
              "  /* unfitted */\n",
              "  background-color: var(--sklearn-color-unfitted-level-2);\n",
              "}\n",
              "\n",
              "#sk-container-id-1 div.sk-estimator.fitted input.sk-toggleable__control:checked~label.sk-toggleable__label {\n",
              "  /* fitted */\n",
              "  background-color: var(--sklearn-color-fitted-level-2);\n",
              "}\n",
              "\n",
              "#sk-container-id-1 div.sk-label label.sk-toggleable__label,\n",
              "#sk-container-id-1 div.sk-label label {\n",
              "  /* The background is the default theme color */\n",
              "  color: var(--sklearn-color-text-on-default-background);\n",
              "}\n",
              "\n",
              "/* On hover, darken the color of the background */\n",
              "#sk-container-id-1 div.sk-label:hover label.sk-toggleable__label {\n",
              "  color: var(--sklearn-color-text);\n",
              "  background-color: var(--sklearn-color-unfitted-level-2);\n",
              "}\n",
              "\n",
              "/* Label box, darken color on hover, fitted */\n",
              "#sk-container-id-1 div.sk-label.fitted:hover label.sk-toggleable__label.fitted {\n",
              "  color: var(--sklearn-color-text);\n",
              "  background-color: var(--sklearn-color-fitted-level-2);\n",
              "}\n",
              "\n",
              "/* Estimator label */\n",
              "\n",
              "#sk-container-id-1 div.sk-label label {\n",
              "  font-family: monospace;\n",
              "  font-weight: bold;\n",
              "  display: inline-block;\n",
              "  line-height: 1.2em;\n",
              "}\n",
              "\n",
              "#sk-container-id-1 div.sk-label-container {\n",
              "  text-align: center;\n",
              "}\n",
              "\n",
              "/* Estimator-specific */\n",
              "#sk-container-id-1 div.sk-estimator {\n",
              "  font-family: monospace;\n",
              "  border: 1px dotted var(--sklearn-color-border-box);\n",
              "  border-radius: 0.25em;\n",
              "  box-sizing: border-box;\n",
              "  margin-bottom: 0.5em;\n",
              "  /* unfitted */\n",
              "  background-color: var(--sklearn-color-unfitted-level-0);\n",
              "}\n",
              "\n",
              "#sk-container-id-1 div.sk-estimator.fitted {\n",
              "  /* fitted */\n",
              "  background-color: var(--sklearn-color-fitted-level-0);\n",
              "}\n",
              "\n",
              "/* on hover */\n",
              "#sk-container-id-1 div.sk-estimator:hover {\n",
              "  /* unfitted */\n",
              "  background-color: var(--sklearn-color-unfitted-level-2);\n",
              "}\n",
              "\n",
              "#sk-container-id-1 div.sk-estimator.fitted:hover {\n",
              "  /* fitted */\n",
              "  background-color: var(--sklearn-color-fitted-level-2);\n",
              "}\n",
              "\n",
              "/* Specification for estimator info (e.g. \"i\" and \"?\") */\n",
              "\n",
              "/* Common style for \"i\" and \"?\" */\n",
              "\n",
              ".sk-estimator-doc-link,\n",
              "a:link.sk-estimator-doc-link,\n",
              "a:visited.sk-estimator-doc-link {\n",
              "  float: right;\n",
              "  font-size: smaller;\n",
              "  line-height: 1em;\n",
              "  font-family: monospace;\n",
              "  background-color: var(--sklearn-color-background);\n",
              "  border-radius: 1em;\n",
              "  height: 1em;\n",
              "  width: 1em;\n",
              "  text-decoration: none !important;\n",
              "  margin-left: 0.5em;\n",
              "  text-align: center;\n",
              "  /* unfitted */\n",
              "  border: var(--sklearn-color-unfitted-level-1) 1pt solid;\n",
              "  color: var(--sklearn-color-unfitted-level-1);\n",
              "}\n",
              "\n",
              ".sk-estimator-doc-link.fitted,\n",
              "a:link.sk-estimator-doc-link.fitted,\n",
              "a:visited.sk-estimator-doc-link.fitted {\n",
              "  /* fitted */\n",
              "  border: var(--sklearn-color-fitted-level-1) 1pt solid;\n",
              "  color: var(--sklearn-color-fitted-level-1);\n",
              "}\n",
              "\n",
              "/* On hover */\n",
              "div.sk-estimator:hover .sk-estimator-doc-link:hover,\n",
              ".sk-estimator-doc-link:hover,\n",
              "div.sk-label-container:hover .sk-estimator-doc-link:hover,\n",
              ".sk-estimator-doc-link:hover {\n",
              "  /* unfitted */\n",
              "  background-color: var(--sklearn-color-unfitted-level-3);\n",
              "  color: var(--sklearn-color-background);\n",
              "  text-decoration: none;\n",
              "}\n",
              "\n",
              "div.sk-estimator.fitted:hover .sk-estimator-doc-link.fitted:hover,\n",
              ".sk-estimator-doc-link.fitted:hover,\n",
              "div.sk-label-container:hover .sk-estimator-doc-link.fitted:hover,\n",
              ".sk-estimator-doc-link.fitted:hover {\n",
              "  /* fitted */\n",
              "  background-color: var(--sklearn-color-fitted-level-3);\n",
              "  color: var(--sklearn-color-background);\n",
              "  text-decoration: none;\n",
              "}\n",
              "\n",
              "/* Span, style for the box shown on hovering the info icon */\n",
              ".sk-estimator-doc-link span {\n",
              "  display: none;\n",
              "  z-index: 9999;\n",
              "  position: relative;\n",
              "  font-weight: normal;\n",
              "  right: .2ex;\n",
              "  padding: .5ex;\n",
              "  margin: .5ex;\n",
              "  width: min-content;\n",
              "  min-width: 20ex;\n",
              "  max-width: 50ex;\n",
              "  color: var(--sklearn-color-text);\n",
              "  box-shadow: 2pt 2pt 4pt #999;\n",
              "  /* unfitted */\n",
              "  background: var(--sklearn-color-unfitted-level-0);\n",
              "  border: .5pt solid var(--sklearn-color-unfitted-level-3);\n",
              "}\n",
              "\n",
              ".sk-estimator-doc-link.fitted span {\n",
              "  /* fitted */\n",
              "  background: var(--sklearn-color-fitted-level-0);\n",
              "  border: var(--sklearn-color-fitted-level-3);\n",
              "}\n",
              "\n",
              ".sk-estimator-doc-link:hover span {\n",
              "  display: block;\n",
              "}\n",
              "\n",
              "/* \"?\"-specific style due to the `<a>` HTML tag */\n",
              "\n",
              "#sk-container-id-1 a.estimator_doc_link {\n",
              "  float: right;\n",
              "  font-size: 1rem;\n",
              "  line-height: 1em;\n",
              "  font-family: monospace;\n",
              "  background-color: var(--sklearn-color-background);\n",
              "  border-radius: 1rem;\n",
              "  height: 1rem;\n",
              "  width: 1rem;\n",
              "  text-decoration: none;\n",
              "  /* unfitted */\n",
              "  color: var(--sklearn-color-unfitted-level-1);\n",
              "  border: var(--sklearn-color-unfitted-level-1) 1pt solid;\n",
              "}\n",
              "\n",
              "#sk-container-id-1 a.estimator_doc_link.fitted {\n",
              "  /* fitted */\n",
              "  border: var(--sklearn-color-fitted-level-1) 1pt solid;\n",
              "  color: var(--sklearn-color-fitted-level-1);\n",
              "}\n",
              "\n",
              "/* On hover */\n",
              "#sk-container-id-1 a.estimator_doc_link:hover {\n",
              "  /* unfitted */\n",
              "  background-color: var(--sklearn-color-unfitted-level-3);\n",
              "  color: var(--sklearn-color-background);\n",
              "  text-decoration: none;\n",
              "}\n",
              "\n",
              "#sk-container-id-1 a.estimator_doc_link.fitted:hover {\n",
              "  /* fitted */\n",
              "  background-color: var(--sklearn-color-fitted-level-3);\n",
              "}\n",
              "</style><div id=\"sk-container-id-1\" class=\"sk-top-container\"><div class=\"sk-text-repr-fallback\"><pre>LinearRegression()</pre><b>In a Jupyter environment, please rerun this cell to show the HTML representation or trust the notebook. <br />On GitHub, the HTML representation is unable to render, please try loading this page with nbviewer.org.</b></div><div class=\"sk-container\" hidden><div class=\"sk-item\"><div class=\"sk-estimator fitted sk-toggleable\"><input class=\"sk-toggleable__control sk-hidden--visually\" id=\"sk-estimator-id-1\" type=\"checkbox\" checked><label for=\"sk-estimator-id-1\" class=\"sk-toggleable__label fitted sk-toggleable__label-arrow\"><div><div>LinearRegression</div></div><div><a class=\"sk-estimator-doc-link fitted\" rel=\"noreferrer\" target=\"_blank\" href=\"https://scikit-learn.org/1.6/modules/generated/sklearn.linear_model.LinearRegression.html\">?<span>Documentation for LinearRegression</span></a><span class=\"sk-estimator-doc-link fitted\">i<span>Fitted</span></span></div></label><div class=\"sk-toggleable__content fitted\"><pre>LinearRegression()</pre></div> </div></div></div></div>"
            ],
            "text/plain": [
              "LinearRegression()"
            ]
          },
          "execution_count": 110,
          "metadata": {},
          "output_type": "execute_result"
        }
      ],
      "source": [
        "model = LinearRegression()\n",
        "model.fit(X_train, y_train)"
      ]
    },
    {
      "cell_type": "code",
      "execution_count": null,
      "metadata": {
        "id": "JZWsjhgj3kW5"
      },
      "outputs": [],
      "source": [
        "y_pred = model.predict(X_test)"
      ]
    },
    {
      "cell_type": "code",
      "execution_count": null,
      "metadata": {
        "colab": {
          "base_uri": "https://localhost:8080/"
        },
        "id": "lsf5CuNF3wWz",
        "outputId": "e9ff2fd0-4084-4fde-f85d-61363e4a6e90"
      },
      "outputs": [
        {
          "name": "stdout",
          "output_type": "stream",
          "text": [
            "RMSE : 297.6223189967736\n",
            "MAE : 198.32019897459492\n",
            "R² : 0.8711372847736902\n"
          ]
        }
      ],
      "source": [
        "from sklearn.metrics import mean_squared_error, mean_absolute_error\n",
        "import numpy as np\n",
        "from sklearn.metrics import r2_score\n",
        "\n",
        "# RMSE (manuellement si squared=False non disponible)\n",
        "rmse = np.sqrt(mean_squared_error(y_test, y_pred))\n",
        "print(\"RMSE :\", rmse)\n",
        "\n",
        "# MAE\n",
        "mae = mean_absolute_error(y_test, y_pred)\n",
        "print(\"MAE :\", mae)\n",
        "\n",
        "r2 = r2_score(y_test, y_pred)\n",
        "print(\"R² :\", r2)\n"
      ]
    },
    {
      "cell_type": "code",
      "execution_count": null,
      "metadata": {
        "id": "mipPVn9838XZ"
      },
      "outputs": [],
      "source": [
        "#Les prédictions ont un écart de 343€ en moyenne par rapport au salaire réel\n",
        "#R2 = le modèle explique 87% de la variance des salaires :  la majorité des différences observées sont liées aux variables que l'on a définies"
      ]
    },
    {
      "cell_type": "markdown",
      "metadata": {
        "id": "makBcwXpAihw"
      },
      "source": [
        "Test du modèle Random Forest"
      ]
    },
    {
      "cell_type": "code",
      "execution_count": null,
      "metadata": {
        "id": "nlXB7zovAoTy"
      },
      "outputs": [],
      "source": [
        "from sklearn.ensemble import RandomForestRegressor\n",
        "from sklearn.metrics import mean_squared_error, r2_score\n",
        "from sklearn.model_selection import train_test_split\n",
        "\n",
        "# Initialiser le modèle\n",
        "rf = RandomForestRegressor(n_estimators=100, random_state=42)\n",
        "\n",
        "# Entraînement\n",
        "X_train, X_test, y_train, y_test = train_test_split(X_encoded, y, test_size=0.2, random_state=42) #On utilise bien le X_encoded pour avoir nos variables transformées\n",
        "\n",
        "rf.fit(X_train, y_train)\n",
        "\n",
        "# Prédictions\n",
        "y_pred = rf.predict(X_test)\n",
        "\n",
        "# Évaluation\n",
        "rmse = mean_squared_error(y_test, y_pred, squared=False)\n",
        "r2 = r2_score(y_test, y_pred)\n",
        "\n",
        "print(\"RMSE :\", rmse)\n",
        "print(\"R² :\", r2)\n"
      ]
    }
  ],
  "metadata": {
    "colab": {
      "provenance": []
    },
    "kernelspec": {
      "display_name": "base",
      "language": "python",
      "name": "python3"
    },
    "language_info": {
      "codemirror_mode": {
        "name": "ipython",
        "version": 3
      },
      "file_extension": ".py",
      "mimetype": "text/x-python",
      "name": "python",
      "nbconvert_exporter": "python",
      "pygments_lexer": "ipython3",
      "version": "3.13.7"
    }
  },
  "nbformat": 4,
  "nbformat_minor": 0
}
